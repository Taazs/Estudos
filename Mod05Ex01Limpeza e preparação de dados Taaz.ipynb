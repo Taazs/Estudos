{
 "cells": [
  {
   "cell_type": "markdown",
   "metadata": {},
   "source": [
    "# Módulo 5 Tarefa 1\n",
    "## Base de nascidos vivos do DataSUS\n",
    "O DataSUS disponibiliza diversos arquivos de dados com relação a seus segurados, conforme a [lei da transparência de informações públicas](https://www.sisgov.com/transparencia-acesso-informacao/#:~:text=A%20Lei%20da%20Transpar%C3%AAncia%20(LC,em%20um%20site%20na%20internet.). \n",
    "\n",
    "Essas informações podem ser obtidas pela internet [aqui](http://www2.datasus.gov.br/DATASUS/index.php?area=0901&item=1). Como o processo de obtenção desses arquivos foge um pouco do nosso escopo, deixamos o arquivo ```SINASC_RO_2019.csv``` já como vai ser encontrado no DataSUS. O dicionário de dados está no arquivo ```estrutura_sinasc_para_CD.pdf``` (o nome do arquivo tal qual no portal do DataSUS).\n",
    "\n",
    "### Nosso objetivo\n",
    "Queremos deixar uma base organizada para podermos estudar a relação entre partos com risco para o bebê e algumas condições como tempo de parto, consultas de pré-natal etc.\n",
    "\n",
    "#### Preparação da base\n",
    "1. Carregue a base 'SINASC_RO_2019.csv'. Conte o número de registros e o número de registros não duplicados da base. Dica: você aprendeu um método que remove duplicados, encadeie este método com um outro método que conta o número de linhas. **Há linhas duplicadas?**  \n",
    "\n",
    "2. Conte o número de valores *missing* por variável.  \n",
    "\n",
    "3. Ok, no item anterior você deve ter achado pouco prático ler a informação de tantas variáveis, muitas delas nem devem ser interesantes. Então crie uma seleção dessa base somente com as colunas que interessam. São elas:\n",
    "``` \n",
    "['LOCNASC', 'IDADEMAE', 'ESTCIVMAE', 'ESCMAE', 'QTDFILVIVO', \n",
    "    'GESTACAO', 'GRAVIDEZ', 'CONSULTAS', 'APGAR5'] \n",
    "```\n",
    "Refaça a contagem de valores *missings*.  \n",
    "\n",
    "4. Apgar é uma *nota* que o pediatra dá ao bebê quando nasce de acordo com algumas características associadas principalmente à respiração. Apgar 1 e Apgar 5 são as notas 1 e 5 minutos do nascimento. Apgar5 será a nossa variável de interesse principal. Então remova todos os registros com Apgar5 não preenchido. Para esta seleção, conte novamente o número de linhas e o número de *missings*.  \n",
    "\n",
    "5. observe que as variáveis ```['ESTCIVMAE', 'CONSULTAS']``` possuem o código ```9```, que significa *ignorado*. Vamos assumir que o não preenchido é o mesmo que o código ```9```.<br>\n",
    "6. Substitua os valores faltantes da quantitativa (```QTDFILVIVO```) por zero.  \n",
    "7. Das restantes, decida que valore te parece mais adequado (um 'não preenchido' ou um valor 'mais provável' como no item anterior) e preencha. Justifique. Lembre-se de que tratamento de dados é trabalho do cientista, e que estamos tomando decisões a todo o momento - não há necessariamente certo e errado aqui.  \n",
    "8. O Apgar possui uma classificação indicando se o bebê passou por asfixia:\n",
    "- Entre 8 e 10 está em uma faixa 'normal'. \n",
    "- Entre 6 e 7, significa que o recém-nascido passou por 'asfixia leve'. \n",
    "- Entre 4 e 5 significa 'asfixia moderada'.\n",
    "- Entre 0 e 3 significa 'asfixia severa'.  \n",
    "\n",
    "Crie uma categorização dessa variável com essa codificação e calcule as frequências dessa categorização.  \n",
    "<br>\n",
    "9. Renomeie as variáveis para que fiquem no *snake case*, ou seja, em letras minúsculas, com um *underscore* entre as palávras. Dica: repare que se você não quiser criar um *dataframe* novo, você vai precisar usar a opção ```inplace = True```."
   ]
  },
  {
   "cell_type": "code",
   "execution_count": 399,
   "metadata": {},
   "outputs": [
    {
     "name": "stdout",
     "output_type": "stream",
     "text": [
      "(27028, 69)\n"
     ]
    },
    {
     "data": {
      "text/plain": [
       "(27028, 69)"
      ]
     },
     "execution_count": 399,
     "metadata": {},
     "output_type": "execute_result"
    }
   ],
   "source": [
    "import pandas as pd\n",
    "import requests\n",
    "from statistics import mode\n",
    "\n",
    "# 1) seu código aqui\n",
    "sinasc = pd.read_csv('SINASC_RO_2019.csv')\n",
    "print(sinasc.shape)\n",
    "sinasc.drop_duplicates().shape\n",
    "# Não há duplicados"
   ]
  },
  {
   "cell_type": "code",
   "execution_count": 400,
   "metadata": {},
   "outputs": [
    {
     "data": {
      "text/plain": [
       "ORIGEM          0\n",
       "CODESTAB      115\n",
       "CODMUNNASC      0\n",
       "LOCNASC         0\n",
       "IDADEMAE        0\n",
       "             ... \n",
       "munResUf        0\n",
       "munResLat       1\n",
       "munResLon       1\n",
       "munResAlt       1\n",
       "munResArea      1\n",
       "Length: 69, dtype: int64"
      ]
     },
     "execution_count": 400,
     "metadata": {},
     "output_type": "execute_result"
    }
   ],
   "source": [
    "# 2) seu código aqui\n",
    "sinasc_1 = pd.DataFrame(sinasc)\n",
    "sinasc_1.isna().sum()"
   ]
  },
  {
   "cell_type": "code",
   "execution_count": 401,
   "metadata": {
    "scrolled": true
   },
   "outputs": [
    {
     "data": {
      "text/plain": [
       "LOCNASC          0\n",
       "IDADEMAE         0\n",
       "ESTCIVMAE      317\n",
       "ESCMAE         312\n",
       "QTDFILVIVO    1573\n",
       "GESTACAO      1232\n",
       "GRAVIDEZ        79\n",
       "CONSULTAS        0\n",
       "APGAR5         103\n",
       "dtype: int64"
      ]
     },
     "execution_count": 401,
     "metadata": {},
     "output_type": "execute_result"
    }
   ],
   "source": [
    "# 3) seu código aqui\n",
    "sinasc_reduzida = sinasc_1[['LOCNASC', 'IDADEMAE', 'ESTCIVMAE', 'ESCMAE', 'QTDFILVIVO', \n",
    "    'GESTACAO', 'GRAVIDEZ', 'CONSULTAS', 'APGAR5']]\n",
    "sinasc_reduzida.isna().sum()"
   ]
  },
  {
   "cell_type": "code",
   "execution_count": 402,
   "metadata": {},
   "outputs": [
    {
     "name": "stdout",
     "output_type": "stream",
     "text": [
      "Apos a limpeza ficaram (26925, 9) e teve um total de 0 linhas APGAR5 com dados faltantes\n"
     ]
    }
   ],
   "source": [
    "# 4) seu código aqui\n",
    "sinasc_reduzida.APGAR5.isna().sum()\n",
    "sinasc_reduzida[sinasc_reduzida.APGAR5.isna()] #todas missing \n",
    "sinasc_limpa = sinasc_reduzida[~sinasc_reduzida.APGAR5.isna()] #todas que nao tem missing \n",
    "\n",
    "print (f'Apos a limpeza ficaram {sinasc_limpa.shape} e teve um total de {sinasc_limpa.APGAR5.isna().sum()} \\\n",
    "linhas APGAR5 com dados faltantes')\n"
   ]
  },
  {
   "cell_type": "code",
   "execution_count": 403,
   "metadata": {},
   "outputs": [
    {
     "name": "stdout",
     "output_type": "stream",
     "text": [
      "(26925, 9)\n"
     ]
    },
    {
     "data": {
      "text/html": [
       "<div>\n",
       "<style scoped>\n",
       "    .dataframe tbody tr th:only-of-type {\n",
       "        vertical-align: middle;\n",
       "    }\n",
       "\n",
       "    .dataframe tbody tr th {\n",
       "        vertical-align: top;\n",
       "    }\n",
       "\n",
       "    .dataframe thead th {\n",
       "        text-align: right;\n",
       "    }\n",
       "</style>\n",
       "<table border=\"1\" class=\"dataframe\">\n",
       "  <thead>\n",
       "    <tr style=\"text-align: right;\">\n",
       "      <th></th>\n",
       "      <th>LOCNASC</th>\n",
       "      <th>IDADEMAE</th>\n",
       "      <th>ESTCIVMAE</th>\n",
       "      <th>ESCMAE</th>\n",
       "      <th>QTDFILVIVO</th>\n",
       "      <th>GESTACAO</th>\n",
       "      <th>GRAVIDEZ</th>\n",
       "      <th>CONSULTAS</th>\n",
       "      <th>APGAR5</th>\n",
       "    </tr>\n",
       "  </thead>\n",
       "  <tbody>\n",
       "    <tr>\n",
       "      <th>0</th>\n",
       "      <td>1</td>\n",
       "      <td>19</td>\n",
       "      <td>5.0</td>\n",
       "      <td>8 a 11 anos</td>\n",
       "      <td>0.0</td>\n",
       "      <td>37 a 41 semanas</td>\n",
       "      <td>Única</td>\n",
       "      <td>4</td>\n",
       "      <td>10.0</td>\n",
       "    </tr>\n",
       "    <tr>\n",
       "      <th>1</th>\n",
       "      <td>1</td>\n",
       "      <td>29</td>\n",
       "      <td>2.0</td>\n",
       "      <td>8 a 11 anos</td>\n",
       "      <td>1.0</td>\n",
       "      <td>37 a 41 semanas</td>\n",
       "      <td>Única</td>\n",
       "      <td>4</td>\n",
       "      <td>9.0</td>\n",
       "    </tr>\n",
       "    <tr>\n",
       "      <th>2</th>\n",
       "      <td>1</td>\n",
       "      <td>37</td>\n",
       "      <td>9.0</td>\n",
       "      <td>8 a 11 anos</td>\n",
       "      <td>2.0</td>\n",
       "      <td>37 a 41 semanas</td>\n",
       "      <td>Única</td>\n",
       "      <td>4</td>\n",
       "      <td>10.0</td>\n",
       "    </tr>\n",
       "    <tr>\n",
       "      <th>3</th>\n",
       "      <td>1</td>\n",
       "      <td>30</td>\n",
       "      <td>5.0</td>\n",
       "      <td>12 anos ou mais</td>\n",
       "      <td>0.0</td>\n",
       "      <td>37 a 41 semanas</td>\n",
       "      <td>Única</td>\n",
       "      <td>3</td>\n",
       "      <td>10.0</td>\n",
       "    </tr>\n",
       "    <tr>\n",
       "      <th>4</th>\n",
       "      <td>1</td>\n",
       "      <td>30</td>\n",
       "      <td>2.0</td>\n",
       "      <td>8 a 11 anos</td>\n",
       "      <td>1.0</td>\n",
       "      <td>37 a 41 semanas</td>\n",
       "      <td>Única</td>\n",
       "      <td>4</td>\n",
       "      <td>10.0</td>\n",
       "    </tr>\n",
       "  </tbody>\n",
       "</table>\n",
       "</div>"
      ],
      "text/plain": [
       "   LOCNASC  IDADEMAE  ESTCIVMAE           ESCMAE  QTDFILVIVO         GESTACAO  \\\n",
       "0        1        19        5.0      8 a 11 anos         0.0  37 a 41 semanas   \n",
       "1        1        29        2.0      8 a 11 anos         1.0  37 a 41 semanas   \n",
       "2        1        37        9.0      8 a 11 anos         2.0  37 a 41 semanas   \n",
       "3        1        30        5.0  12 anos ou mais         0.0  37 a 41 semanas   \n",
       "4        1        30        2.0      8 a 11 anos         1.0  37 a 41 semanas   \n",
       "\n",
       "  GRAVIDEZ  CONSULTAS  APGAR5  \n",
       "0    Única          4    10.0  \n",
       "1    Única          4     9.0  \n",
       "2    Única          4    10.0  \n",
       "3    Única          3    10.0  \n",
       "4    Única          4    10.0  "
      ]
     },
     "execution_count": 403,
     "metadata": {},
     "output_type": "execute_result"
    }
   ],
   "source": [
    "print (sinasc_limpa.shape)\n",
    "sinasc_limpa.head()"
   ]
  },
  {
   "cell_type": "code",
   "execution_count": 404,
   "metadata": {},
   "outputs": [
    {
     "name": "stdout",
     "output_type": "stream",
     "text": [
      "Os dados \"ESTCIVMAE\" possui um total de 315 dados faltantes e \"CONSULTAS\" tambêm possui 0.\n",
      "E apos o tratamento possui respectivamente 0 e 0.\n"
     ]
    }
   ],
   "source": [
    "# 5) seu código aqui\n",
    "sinasc2 = sinasc_limpa.copy()\n",
    "\n",
    "print (f'Os dados \"ESTCIVMAE\" possui um total de {sinasc_limpa.ESTCIVMAE.isna().sum()} \\\n",
    "dados faltantes e \"CONSULTAS\" tambêm possui {sinasc_limpa.CONSULTAS.isna().sum()}.')\n",
    "\n",
    "sinasc2['ESTCIVMAE'] = sinasc2['ESTCIVMAE'].fillna(9)\n",
    "sinasc2['CONSULTAS'] = sinasc2['CONSULTAS'].fillna(9)\n",
    "\n",
    "print (f'E apos o tratamento possui respectivamente {sinasc2.ESTCIVMAE.isna().sum()} \\\n",
    "e {sinasc2.CONSULTAS.isna().sum()}.')\n",
    "\n",
    "\n"
   ]
  },
  {
   "cell_type": "code",
   "execution_count": 406,
   "metadata": {},
   "outputs": [
    {
     "name": "stdout",
     "output_type": "stream",
     "text": [
      "Na coluna Quantidade de filhos possui 0 com valores sem respostas \"NaN\"\n"
     ]
    }
   ],
   "source": [
    "# 6) Seu código aqui\n",
    "sinasc2['QTDFILVIVO'] = sinasc2['QTDFILVIVO'].fillna(0)\n",
    "\n",
    "print (f'Na coluna Quantidade de filhos possui {sinasc2.QTDFILVIVO.isna().sum()} com valores sem respostas \"NaN\"')"
   ]
  },
  {
   "cell_type": "code",
   "execution_count": 407,
   "metadata": {},
   "outputs": [
    {
     "name": "stdout",
     "output_type": "stream",
     "text": [
      "O Dado LOCNASC possui 0 dados faltantes\n",
      "O Dado IDADEMAE possui 0 dados faltantes\n",
      "O Dado ESTCIVMAE possui 0 dados faltantes\n",
      "O Dado ESCMAE possui 310 dados faltantes\n",
      "O Dado QTDFILVIVO possui 0 dados faltantes\n",
      "O Dado GESTACAO possui 1216 dados faltantes\n",
      "O Dado GRAVIDEZ possui 76 dados faltantes\n",
      "O Dado CONSULTAS possui 0 dados faltantes\n",
      "O Dado APGAR5 possui 0 dados faltantes\n"
     ]
    }
   ],
   "source": [
    "# 7) seu código aqui\n",
    "dados = sinasc2[['LOCNASC', 'IDADEMAE', 'ESTCIVMAE', 'ESCMAE', 'QTDFILVIVO', \n",
    "    'GESTACAO', 'GRAVIDEZ', 'CONSULTAS', 'APGAR5']]\n",
    "\n",
    "for coluna in dados:\n",
    "    print (f'O Dado {coluna} possui {sinasc2[coluna].isna().sum()} dados faltantes')"
   ]
  },
  {
   "cell_type": "code",
   "execution_count": 408,
   "metadata": {},
   "outputs": [
    {
     "data": {
      "text/plain": [
       "LOCNASC         int64\n",
       "IDADEMAE        int64\n",
       "ESTCIVMAE     float64\n",
       "ESCMAE         object\n",
       "QTDFILVIVO    float64\n",
       "GESTACAO       object\n",
       "GRAVIDEZ       object\n",
       "CONSULTAS       int64\n",
       "APGAR5        float64\n",
       "dtype: object"
      ]
     },
     "execution_count": 408,
     "metadata": {},
     "output_type": "execute_result"
    }
   ],
   "source": [
    "# 7) seu código aqui\n",
    "sinasc2.dtypes"
   ]
  },
  {
   "cell_type": "code",
   "execution_count": 409,
   "metadata": {},
   "outputs": [],
   "source": [
    "sinasc2['GRAVIDEZ']= sinasc2['GRAVIDEZ'].map({'Única': 1,'Dupla': 2, 'Tripla e mais' : 3, 'Ignorado' : 9 })"
   ]
  },
  {
   "cell_type": "code",
   "execution_count": 410,
   "metadata": {},
   "outputs": [
    {
     "data": {
      "text/html": [
       "<div>\n",
       "<style scoped>\n",
       "    .dataframe tbody tr th:only-of-type {\n",
       "        vertical-align: middle;\n",
       "    }\n",
       "\n",
       "    .dataframe tbody tr th {\n",
       "        vertical-align: top;\n",
       "    }\n",
       "\n",
       "    .dataframe thead th {\n",
       "        text-align: right;\n",
       "    }\n",
       "</style>\n",
       "<table border=\"1\" class=\"dataframe\">\n",
       "  <thead>\n",
       "    <tr style=\"text-align: right;\">\n",
       "      <th></th>\n",
       "      <th>LOCNASC</th>\n",
       "      <th>IDADEMAE</th>\n",
       "      <th>ESTCIVMAE</th>\n",
       "      <th>ESCMAE</th>\n",
       "      <th>QTDFILVIVO</th>\n",
       "      <th>GESTACAO</th>\n",
       "      <th>GRAVIDEZ</th>\n",
       "      <th>CONSULTAS</th>\n",
       "      <th>APGAR5</th>\n",
       "    </tr>\n",
       "  </thead>\n",
       "  <tbody>\n",
       "    <tr>\n",
       "      <th>0</th>\n",
       "      <td>1</td>\n",
       "      <td>19</td>\n",
       "      <td>5.0</td>\n",
       "      <td>8 a 11 anos</td>\n",
       "      <td>0.0</td>\n",
       "      <td>37 a 41 semanas</td>\n",
       "      <td>1.0</td>\n",
       "      <td>4</td>\n",
       "      <td>10.0</td>\n",
       "    </tr>\n",
       "    <tr>\n",
       "      <th>1</th>\n",
       "      <td>1</td>\n",
       "      <td>29</td>\n",
       "      <td>2.0</td>\n",
       "      <td>8 a 11 anos</td>\n",
       "      <td>1.0</td>\n",
       "      <td>37 a 41 semanas</td>\n",
       "      <td>1.0</td>\n",
       "      <td>4</td>\n",
       "      <td>9.0</td>\n",
       "    </tr>\n",
       "  </tbody>\n",
       "</table>\n",
       "</div>"
      ],
      "text/plain": [
       "   LOCNASC  IDADEMAE  ESTCIVMAE       ESCMAE  QTDFILVIVO         GESTACAO  \\\n",
       "0        1        19        5.0  8 a 11 anos         0.0  37 a 41 semanas   \n",
       "1        1        29        2.0  8 a 11 anos         1.0  37 a 41 semanas   \n",
       "\n",
       "   GRAVIDEZ  CONSULTAS  APGAR5  \n",
       "0       1.0          4    10.0  \n",
       "1       1.0          4     9.0  "
      ]
     },
     "execution_count": 410,
     "metadata": {},
     "output_type": "execute_result"
    }
   ],
   "source": [
    "moda_gravidez = mode(sinasc2['GRAVIDEZ'])\n",
    "sinasc2['GRAVIDEZ'] = sinasc2['GRAVIDEZ'].fillna(moda_gravidez)\n",
    "sinasc2.head(2)\n"
   ]
  },
  {
   "cell_type": "code",
   "execution_count": 411,
   "metadata": {},
   "outputs": [],
   "source": [
    "sinasc2['GESTACAO'] = sinasc2['GESTACAO'].map({'Menos de 22 semanas' : 1, \\\n",
    "'22 a 27 semanas' : 2, '28 a 31 semanas' : 3, '32 a 36 semanas' : 4, '37 a 41 semanas ' : 5, \\\n",
    "'42 semanas e mais' : 6, 'Ignorado' : 9})"
   ]
  },
  {
   "cell_type": "code",
   "execution_count": 412,
   "metadata": {},
   "outputs": [
    {
     "data": {
      "text/html": [
       "<div>\n",
       "<style scoped>\n",
       "    .dataframe tbody tr th:only-of-type {\n",
       "        vertical-align: middle;\n",
       "    }\n",
       "\n",
       "    .dataframe tbody tr th {\n",
       "        vertical-align: top;\n",
       "    }\n",
       "\n",
       "    .dataframe thead th {\n",
       "        text-align: right;\n",
       "    }\n",
       "</style>\n",
       "<table border=\"1\" class=\"dataframe\">\n",
       "  <thead>\n",
       "    <tr style=\"text-align: right;\">\n",
       "      <th></th>\n",
       "      <th>LOCNASC</th>\n",
       "      <th>IDADEMAE</th>\n",
       "      <th>ESTCIVMAE</th>\n",
       "      <th>ESCMAE</th>\n",
       "      <th>QTDFILVIVO</th>\n",
       "      <th>GESTACAO</th>\n",
       "      <th>GRAVIDEZ</th>\n",
       "      <th>CONSULTAS</th>\n",
       "      <th>APGAR5</th>\n",
       "    </tr>\n",
       "  </thead>\n",
       "  <tbody>\n",
       "    <tr>\n",
       "      <th>0</th>\n",
       "      <td>1</td>\n",
       "      <td>19</td>\n",
       "      <td>5.0</td>\n",
       "      <td>8 a 11 anos</td>\n",
       "      <td>0.0</td>\n",
       "      <td>4.0</td>\n",
       "      <td>1.0</td>\n",
       "      <td>4</td>\n",
       "      <td>10.0</td>\n",
       "    </tr>\n",
       "    <tr>\n",
       "      <th>1</th>\n",
       "      <td>1</td>\n",
       "      <td>29</td>\n",
       "      <td>2.0</td>\n",
       "      <td>8 a 11 anos</td>\n",
       "      <td>1.0</td>\n",
       "      <td>4.0</td>\n",
       "      <td>1.0</td>\n",
       "      <td>4</td>\n",
       "      <td>9.0</td>\n",
       "    </tr>\n",
       "  </tbody>\n",
       "</table>\n",
       "</div>"
      ],
      "text/plain": [
       "   LOCNASC  IDADEMAE  ESTCIVMAE       ESCMAE  QTDFILVIVO  GESTACAO  GRAVIDEZ  \\\n",
       "0        1        19        5.0  8 a 11 anos         0.0       4.0       1.0   \n",
       "1        1        29        2.0  8 a 11 anos         1.0       4.0       1.0   \n",
       "\n",
       "   CONSULTAS  APGAR5  \n",
       "0          4    10.0  \n",
       "1          4     9.0  "
      ]
     },
     "execution_count": 412,
     "metadata": {},
     "output_type": "execute_result"
    }
   ],
   "source": [
    "moda_gestacao = mode(sinasc2['GESTACAO'])\n",
    "sinasc2['GESTACAO'] = sinasc2['GESTACAO'].fillna(moda_gestacao)\n",
    "sinasc2.head(2)"
   ]
  },
  {
   "cell_type": "code",
   "execution_count": 413,
   "metadata": {},
   "outputs": [],
   "source": [
    "sinasc2['ESCMAE'] = sinasc2['ESCMAE'].map({'Nenhuma': 1, '1 a 3 anos' : 2, '4 a 7 anos' : 3, \\\n",
    "'8 a 11 anos' : 4, '12 e mais' : 5, 'Ignorado' : 9})"
   ]
  },
  {
   "cell_type": "code",
   "execution_count": 414,
   "metadata": {},
   "outputs": [
    {
     "data": {
      "text/html": [
       "<div>\n",
       "<style scoped>\n",
       "    .dataframe tbody tr th:only-of-type {\n",
       "        vertical-align: middle;\n",
       "    }\n",
       "\n",
       "    .dataframe tbody tr th {\n",
       "        vertical-align: top;\n",
       "    }\n",
       "\n",
       "    .dataframe thead th {\n",
       "        text-align: right;\n",
       "    }\n",
       "</style>\n",
       "<table border=\"1\" class=\"dataframe\">\n",
       "  <thead>\n",
       "    <tr style=\"text-align: right;\">\n",
       "      <th></th>\n",
       "      <th>LOCNASC</th>\n",
       "      <th>IDADEMAE</th>\n",
       "      <th>ESTCIVMAE</th>\n",
       "      <th>ESCMAE</th>\n",
       "      <th>QTDFILVIVO</th>\n",
       "      <th>GESTACAO</th>\n",
       "      <th>GRAVIDEZ</th>\n",
       "      <th>CONSULTAS</th>\n",
       "      <th>APGAR5</th>\n",
       "    </tr>\n",
       "  </thead>\n",
       "  <tbody>\n",
       "    <tr>\n",
       "      <th>0</th>\n",
       "      <td>1</td>\n",
       "      <td>19</td>\n",
       "      <td>5.0</td>\n",
       "      <td>4.0</td>\n",
       "      <td>0.0</td>\n",
       "      <td>4.0</td>\n",
       "      <td>1.0</td>\n",
       "      <td>4</td>\n",
       "      <td>10.0</td>\n",
       "    </tr>\n",
       "    <tr>\n",
       "      <th>1</th>\n",
       "      <td>1</td>\n",
       "      <td>29</td>\n",
       "      <td>2.0</td>\n",
       "      <td>4.0</td>\n",
       "      <td>1.0</td>\n",
       "      <td>4.0</td>\n",
       "      <td>1.0</td>\n",
       "      <td>4</td>\n",
       "      <td>9.0</td>\n",
       "    </tr>\n",
       "  </tbody>\n",
       "</table>\n",
       "</div>"
      ],
      "text/plain": [
       "   LOCNASC  IDADEMAE  ESTCIVMAE  ESCMAE  QTDFILVIVO  GESTACAO  GRAVIDEZ  \\\n",
       "0        1        19        5.0     4.0         0.0       4.0       1.0   \n",
       "1        1        29        2.0     4.0         1.0       4.0       1.0   \n",
       "\n",
       "   CONSULTAS  APGAR5  \n",
       "0          4    10.0  \n",
       "1          4     9.0  "
      ]
     },
     "execution_count": 414,
     "metadata": {},
     "output_type": "execute_result"
    }
   ],
   "source": [
    "moda_escmae = mode(sinasc2['ESCMAE'])\n",
    "sinasc2['ESCMAE'] = sinasc2['ESCMAE'].fillna(moda_escmae)\n",
    "sinasc2.head(2)"
   ]
  },
  {
   "cell_type": "code",
   "execution_count": 415,
   "metadata": {},
   "outputs": [
    {
     "name": "stdout",
     "output_type": "stream",
     "text": [
      "O Dado LOCNASC possui 0 dados faltantes\n",
      "O Dado IDADEMAE possui 0 dados faltantes\n",
      "O Dado ESTCIVMAE possui 0 dados faltantes\n",
      "O Dado ESCMAE possui 0 dados faltantes\n",
      "O Dado QTDFILVIVO possui 0 dados faltantes\n",
      "O Dado GESTACAO possui 0 dados faltantes\n",
      "O Dado GRAVIDEZ possui 0 dados faltantes\n",
      "O Dado CONSULTAS possui 0 dados faltantes\n",
      "O Dado APGAR5 possui 0 dados faltantes\n"
     ]
    }
   ],
   "source": [
    "dados = sinasc2[['LOCNASC', 'IDADEMAE', 'ESTCIVMAE', 'ESCMAE', 'QTDFILVIVO', \n",
    "    'GESTACAO', 'GRAVIDEZ', 'CONSULTAS', 'APGAR5']]\n",
    "\n",
    "for coluna in dados:\n",
    "    print (f'O Dado {coluna} possui {sinasc2[coluna].isna().sum()} dados faltantes')"
   ]
  },
  {
   "cell_type": "code",
   "execution_count": 416,
   "metadata": {},
   "outputs": [],
   "source": [
    "# 8) seu código aqui\n",
    "sinasc2.loc[sinasc2['APGAR5'] >= 8, 'APGAR5 CAT'] = 'Normal'\n",
    "sinasc2.loc[(sinasc2['APGAR5'] >= 6) & (sinasc2['APGAR5'] <= 7), 'APGAR5 CAT'] = 'Asfixia Leve'\n",
    "sinasc2.loc[(sinasc2['APGAR5'] >= 4) & (sinasc2['APGAR5'] <= 5), 'APGAR5 CAT'] = 'Asfixia Moderada'\n",
    "sinasc2.loc[(sinasc2['APGAR5'] >= 0) & (sinasc2['APGAR5'] <= 3), 'APGAR5 CAT'] = 'Asfixia Severa'"
   ]
  },
  {
   "cell_type": "code",
   "execution_count": 417,
   "metadata": {},
   "outputs": [
    {
     "name": "stdout",
     "output_type": "stream",
     "text": [
      "A porcentagem de APGAR5 é:\n",
      " APGAR5 CAT\n",
      "Normal              98.28%\n",
      "Asfixia Leve         1.19%\n",
      "Asfixia Severa       0.27%\n",
      "Asfixia Moderada     0.25%\n",
      "Name: proportion, dtype: object\n"
     ]
    }
   ],
   "source": [
    "# 8) seu código aqui\n",
    "apgar5_porcentagem = sinasc2['APGAR5 CAT'].value_counts(normalize=True)*100\n",
    "apgar5_porcentagem_formatada = apgar5_porcentagem.map('{:.2f}%'.format)\n",
    "print (f'A porcentagem de APGAR5 é:\\n {apgar5_porcentagem_formatada}')"
   ]
  },
  {
   "cell_type": "code",
   "execution_count": 418,
   "metadata": {},
   "outputs": [
    {
     "data": {
      "text/html": [
       "<div>\n",
       "<style scoped>\n",
       "    .dataframe tbody tr th:only-of-type {\n",
       "        vertical-align: middle;\n",
       "    }\n",
       "\n",
       "    .dataframe tbody tr th {\n",
       "        vertical-align: top;\n",
       "    }\n",
       "\n",
       "    .dataframe thead th {\n",
       "        text-align: right;\n",
       "    }\n",
       "</style>\n",
       "<table border=\"1\" class=\"dataframe\">\n",
       "  <thead>\n",
       "    <tr style=\"text-align: right;\">\n",
       "      <th></th>\n",
       "      <th>locnasc</th>\n",
       "      <th>idademae</th>\n",
       "      <th>estcivmae</th>\n",
       "      <th>escmae</th>\n",
       "      <th>qtdfilvivo</th>\n",
       "      <th>gestacao</th>\n",
       "      <th>gravidez</th>\n",
       "      <th>consultas</th>\n",
       "      <th>apgar5</th>\n",
       "      <th>apgar5_cat</th>\n",
       "    </tr>\n",
       "  </thead>\n",
       "  <tbody>\n",
       "    <tr>\n",
       "      <th>0</th>\n",
       "      <td>1</td>\n",
       "      <td>19</td>\n",
       "      <td>5.0</td>\n",
       "      <td>4.0</td>\n",
       "      <td>0.0</td>\n",
       "      <td>4.0</td>\n",
       "      <td>1.0</td>\n",
       "      <td>4</td>\n",
       "      <td>10.0</td>\n",
       "      <td>Normal</td>\n",
       "    </tr>\n",
       "    <tr>\n",
       "      <th>1</th>\n",
       "      <td>1</td>\n",
       "      <td>29</td>\n",
       "      <td>2.0</td>\n",
       "      <td>4.0</td>\n",
       "      <td>1.0</td>\n",
       "      <td>4.0</td>\n",
       "      <td>1.0</td>\n",
       "      <td>4</td>\n",
       "      <td>9.0</td>\n",
       "      <td>Normal</td>\n",
       "    </tr>\n",
       "  </tbody>\n",
       "</table>\n",
       "</div>"
      ],
      "text/plain": [
       "   locnasc  idademae  estcivmae  escmae  qtdfilvivo  gestacao  gravidez  \\\n",
       "0        1        19        5.0     4.0         0.0       4.0       1.0   \n",
       "1        1        29        2.0     4.0         1.0       4.0       1.0   \n",
       "\n",
       "   consultas  apgar5 apgar5_cat  \n",
       "0          4    10.0     Normal  \n",
       "1          4     9.0     Normal  "
      ]
     },
     "execution_count": 418,
     "metadata": {},
     "output_type": "execute_result"
    }
   ],
   "source": [
    "# 9) seu código aqui\n",
    "sinasc2.columns = sinasc2.columns.str.lower().str.replace(' ', '_', regex=False)\n",
    "sinasc2.head(2)"
   ]
  }
 ],
 "metadata": {
  "kernelspec": {
   "display_name": "Python 3 (ipykernel)",
   "language": "python",
   "name": "python3"
  },
  "language_info": {
   "codemirror_mode": {
    "name": "ipython",
    "version": 3
   },
   "file_extension": ".py",
   "mimetype": "text/x-python",
   "name": "python",
   "nbconvert_exporter": "python",
   "pygments_lexer": "ipython3",
   "version": "3.11.5"
  }
 },
 "nbformat": 4,
 "nbformat_minor": 4
}
