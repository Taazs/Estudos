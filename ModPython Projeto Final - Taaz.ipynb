{
 "cells": [
  {
   "cell_type": "markdown",
   "id": "e8338d3d",
   "metadata": {
    "id": "rphAMxeEbu7F",
    "papermill": {
     "duration": 0.020556,
     "end_time": "2023-10-28T14:41:17.679976",
     "exception": false,
     "start_time": "2023-10-28T14:41:17.659420",
     "status": "completed"
    },
    "tags": []
   },
   "source": [
    "# **PROJETO FINAL PYTHON EBAC -- OUT/2023**\n",
    "\n",
    "\n"
   ]
  },
  {
   "cell_type": "markdown",
   "id": "893b2acb",
   "metadata": {
    "id": "Pau5pO8pn0a9",
    "papermill": {
     "duration": 0.019886,
     "end_time": "2023-10-28T14:41:17.720017",
     "exception": false,
     "start_time": "2023-10-28T14:41:17.700131",
     "status": "completed"
    },
    "tags": []
   },
   "source": [
    "# 1\\. **INTRODUÇÃO**"
   ]
  },
  {
   "cell_type": "markdown",
   "id": "33156b13",
   "metadata": {
    "id": "ekmJZdl_fYcG",
    "papermill": {
     "duration": 0.019008,
     "end_time": "2023-10-28T14:41:17.758682",
     "exception": false,
     "start_time": "2023-10-28T14:41:17.739674",
     "status": "completed"
    },
    "tags": []
   },
   "source": [
    "### 1.1. **Descrição do Projeto:**\n",
    "\n",
    "> O projeto \"Análise de Inadimplência de Clientes em um Banco\" é um estudo detalhado que utiliza técnicas de análise de dados e visualização para compreender e identificar os fatores que levam à inadimplência de clientes em um banco X. O objetivo principal é fornecer insights acionáveis que ajudem o banco a tomar decisões informadas e a desenvolver estratégias para reduzir a inadimplência.\n",
    "\n"
   ]
  },
  {
   "cell_type": "markdown",
   "id": "77289ac6",
   "metadata": {
    "id": "0FXMjYg7PIeN",
    "papermill": {
     "duration": 0.019254,
     "end_time": "2023-10-28T14:41:17.797615",
     "exception": false,
     "start_time": "2023-10-28T14:41:17.778361",
     "status": "completed"
    },
    "tags": []
   },
   "source": [
    "### 1.2. **Coleta de dados**\n",
    "\n",
    "> Nesta etapa, foram coletados os [dados](https://raw.githubusercontent.com/andre-marcos-perez/ebac-course-utils/develop/dataset/credito.csv) relevantes, que incluem informações sobre os clientes, como nível de escolaridade, renda, histórico de transações, tipos de empréstimos, entre outros. Além disso, foram incorporados dados que representam a situação de `adimplência, com o valor 0`, e `inadimplência, com o valor 1`, os quais foram agrupados sob a categoria denominada **'default'**."
   ]
  },
  {
   "cell_type": "markdown",
   "id": "e94d71ba",
   "metadata": {
    "id": "RnX9R2s9kdPO",
    "papermill": {
     "duration": 0.019694,
     "end_time": "2023-10-28T14:41:17.837087",
     "exception": false,
     "start_time": "2023-10-28T14:41:17.817393",
     "status": "completed"
    },
    "tags": []
   },
   "source": [
    "| Coluna  | Descrição |\n",
    "| ------- | --------- |\n",
    "| id      | Número da conta |\n",
    "| default | Indica se o cliente é adimplente (0) ou inadimplente (1) |\n",
    "| idade   | --- |\n",
    "| sexo    | --- |\n",
    "| depedentes | --- |\n",
    "| escolaridade | --- |\n",
    "| estado_civil | --- |\n",
    "| salario_anual | Faixa do salario mensal multiplicado por 12 |\n",
    "| tipo_cartao | Categoria do cartao: blue, silver, gold e platinium |\n",
    "| meses_de_relacionamento | Quantidade de meses desde a abertura da conta |\n",
    "| qtd_produtos | Quantidade de produtos contratados |\n",
    "| iteracoes_12m | Quantidade de iteracoes com o cliente no último ano |\n",
    "| meses_inatico_12m | Quantidade de meses que o cliente ficou inativo no último ano |\n",
    "| limite_credito | Valor do limite do cartão de crédito |\n",
    "| valor_transacoes_12m | Soma total do valor das transações no cartão de crédito no último ano |\n",
    "| qtd_transacoes_12m | Quantidade total de transações no cartão de crédito no último ano |"
   ]
  },
  {
   "cell_type": "markdown",
   "id": "7f102276",
   "metadata": {
    "id": "__cf5FNXEzEy",
    "papermill": {
     "duration": 0.023864,
     "end_time": "2023-10-28T14:41:17.881744",
     "exception": false,
     "start_time": "2023-10-28T14:41:17.857880",
     "status": "completed"
    },
    "tags": []
   },
   "source": [
    "- Importação das bibliotecas utilizadas no projeto"
   ]
  },
  {
   "cell_type": "code",
   "execution_count": 1,
   "id": "403a7a76",
   "metadata": {
    "execution": {
     "iopub.execute_input": "2023-10-28T14:41:17.923455Z",
     "iopub.status.busy": "2023-10-28T14:41:17.922781Z",
     "iopub.status.idle": "2023-10-28T14:41:19.722974Z",
     "shell.execute_reply": "2023-10-28T14:41:19.721815Z"
    },
    "id": "_6rQG3GaR1Se",
    "papermill": {
     "duration": 1.824319,
     "end_time": "2023-10-28T14:41:19.726005",
     "exception": false,
     "start_time": "2023-10-28T14:41:17.901686",
     "status": "completed"
    },
    "tags": []
   },
   "outputs": [],
   "source": [
    "import pandas as pd\n",
    "import seaborn as sns\n",
    "import matplotlib.pyplot as plt\n",
    "\n",
    "\n",
    "\n",
    "sns.set_style('whitegrid')"
   ]
  },
  {
   "cell_type": "code",
   "execution_count": 2,
   "id": "3d8d22d1",
   "metadata": {
    "execution": {
     "iopub.execute_input": "2023-10-28T14:41:19.767271Z",
     "iopub.status.busy": "2023-10-28T14:41:19.766734Z",
     "iopub.status.idle": "2023-10-28T14:41:19.836604Z",
     "shell.execute_reply": "2023-10-28T14:41:19.835487Z"
    },
    "id": "qCw5atkvR3yz",
    "papermill": {
     "duration": 0.093338,
     "end_time": "2023-10-28T14:41:19.839187",
     "exception": false,
     "start_time": "2023-10-28T14:41:19.745849",
     "status": "completed"
    },
    "tags": []
   },
   "outputs": [],
   "source": [
    "df = pd.read_csv('/kaggle/input/credito2/credito.csv', na_values = 'na')"
   ]
  },
  {
   "cell_type": "code",
   "execution_count": 3,
   "id": "c3b96998",
   "metadata": {
    "execution": {
     "iopub.execute_input": "2023-10-28T14:41:19.880119Z",
     "iopub.status.busy": "2023-10-28T14:41:19.879677Z",
     "iopub.status.idle": "2023-10-28T14:41:19.906228Z",
     "shell.execute_reply": "2023-10-28T14:41:19.905232Z"
    },
    "id": "pOqcrfLdiupB",
    "outputId": "b7bf8dc8-ee42-4c4e-b396-7a584848bece",
    "papermill": {
     "duration": 0.049281,
     "end_time": "2023-10-28T14:41:19.908440",
     "exception": false,
     "start_time": "2023-10-28T14:41:19.859159",
     "status": "completed"
    },
    "tags": []
   },
   "outputs": [
    {
     "data": {
      "text/html": [
       "<div>\n",
       "<style scoped>\n",
       "    .dataframe tbody tr th:only-of-type {\n",
       "        vertical-align: middle;\n",
       "    }\n",
       "\n",
       "    .dataframe tbody tr th {\n",
       "        vertical-align: top;\n",
       "    }\n",
       "\n",
       "    .dataframe thead th {\n",
       "        text-align: right;\n",
       "    }\n",
       "</style>\n",
       "<table border=\"1\" class=\"dataframe\">\n",
       "  <thead>\n",
       "    <tr style=\"text-align: right;\">\n",
       "      <th></th>\n",
       "      <th>id</th>\n",
       "      <th>default</th>\n",
       "      <th>idade</th>\n",
       "      <th>sexo</th>\n",
       "      <th>dependentes</th>\n",
       "      <th>escolaridade</th>\n",
       "      <th>estado_civil</th>\n",
       "      <th>salario_anual</th>\n",
       "      <th>tipo_cartao</th>\n",
       "      <th>meses_de_relacionamento</th>\n",
       "      <th>qtd_produtos</th>\n",
       "      <th>iteracoes_12m</th>\n",
       "      <th>meses_inativo_12m</th>\n",
       "      <th>limite_credito</th>\n",
       "      <th>valor_transacoes_12m</th>\n",
       "      <th>qtd_transacoes_12m</th>\n",
       "    </tr>\n",
       "  </thead>\n",
       "  <tbody>\n",
       "    <tr>\n",
       "      <th>50</th>\n",
       "      <td>720756708</td>\n",
       "      <td>0</td>\n",
       "      <td>52</td>\n",
       "      <td>F</td>\n",
       "      <td>3</td>\n",
       "      <td>NaN</td>\n",
       "      <td>casado</td>\n",
       "      <td>menos que $40K</td>\n",
       "      <td>blue</td>\n",
       "      <td>41</td>\n",
       "      <td>6</td>\n",
       "      <td>2</td>\n",
       "      <td>3</td>\n",
       "      <td>2.622,45</td>\n",
       "      <td>1.878,14</td>\n",
       "      <td>30</td>\n",
       "    </tr>\n",
       "    <tr>\n",
       "      <th>51</th>\n",
       "      <td>779471883</td>\n",
       "      <td>1</td>\n",
       "      <td>54</td>\n",
       "      <td>F</td>\n",
       "      <td>1</td>\n",
       "      <td>mestrado</td>\n",
       "      <td>casado</td>\n",
       "      <td>menos que $40K</td>\n",
       "      <td>blue</td>\n",
       "      <td>40</td>\n",
       "      <td>2</td>\n",
       "      <td>1</td>\n",
       "      <td>3</td>\n",
       "      <td>1.438,08</td>\n",
       "      <td>705,59</td>\n",
       "      <td>19</td>\n",
       "    </tr>\n",
       "    <tr>\n",
       "      <th>52</th>\n",
       "      <td>711525033</td>\n",
       "      <td>0</td>\n",
       "      <td>66</td>\n",
       "      <td>F</td>\n",
       "      <td>0</td>\n",
       "      <td>ensino medio</td>\n",
       "      <td>casado</td>\n",
       "      <td>menos que $40K</td>\n",
       "      <td>blue</td>\n",
       "      <td>54</td>\n",
       "      <td>3</td>\n",
       "      <td>2</td>\n",
       "      <td>4</td>\n",
       "      <td>3.171,17</td>\n",
       "      <td>1.946,81</td>\n",
       "      <td>38</td>\n",
       "    </tr>\n",
       "    <tr>\n",
       "      <th>53</th>\n",
       "      <td>712813458</td>\n",
       "      <td>0</td>\n",
       "      <td>49</td>\n",
       "      <td>M</td>\n",
       "      <td>2</td>\n",
       "      <td>NaN</td>\n",
       "      <td>casado</td>\n",
       "      <td>$120K +</td>\n",
       "      <td>blue</td>\n",
       "      <td>36</td>\n",
       "      <td>4</td>\n",
       "      <td>0</td>\n",
       "      <td>2</td>\n",
       "      <td>19.763,65</td>\n",
       "      <td>1.414,42</td>\n",
       "      <td>35</td>\n",
       "    </tr>\n",
       "    <tr>\n",
       "      <th>54</th>\n",
       "      <td>714374133</td>\n",
       "      <td>1</td>\n",
       "      <td>56</td>\n",
       "      <td>M</td>\n",
       "      <td>2</td>\n",
       "      <td>mestrado</td>\n",
       "      <td>casado</td>\n",
       "      <td>$120K +</td>\n",
       "      <td>blue</td>\n",
       "      <td>36</td>\n",
       "      <td>1</td>\n",
       "      <td>3</td>\n",
       "      <td>3</td>\n",
       "      <td>15.769,34</td>\n",
       "      <td>602,60</td>\n",
       "      <td>15</td>\n",
       "    </tr>\n",
       "  </tbody>\n",
       "</table>\n",
       "</div>"
      ],
      "text/plain": [
       "           id  default  idade sexo  dependentes  escolaridade estado_civil  \\\n",
       "50  720756708        0     52    F            3           NaN       casado   \n",
       "51  779471883        1     54    F            1      mestrado       casado   \n",
       "52  711525033        0     66    F            0  ensino medio       casado   \n",
       "53  712813458        0     49    M            2           NaN       casado   \n",
       "54  714374133        1     56    M            2      mestrado       casado   \n",
       "\n",
       "     salario_anual tipo_cartao  meses_de_relacionamento  qtd_produtos  \\\n",
       "50  menos que $40K        blue                       41             6   \n",
       "51  menos que $40K        blue                       40             2   \n",
       "52  menos que $40K        blue                       54             3   \n",
       "53         $120K +        blue                       36             4   \n",
       "54         $120K +        blue                       36             1   \n",
       "\n",
       "    iteracoes_12m  meses_inativo_12m limite_credito valor_transacoes_12m  \\\n",
       "50              2                  3       2.622,45             1.878,14   \n",
       "51              1                  3       1.438,08               705,59   \n",
       "52              2                  4       3.171,17             1.946,81   \n",
       "53              0                  2      19.763,65             1.414,42   \n",
       "54              3                  3      15.769,34               602,60   \n",
       "\n",
       "    qtd_transacoes_12m  \n",
       "50                  30  \n",
       "51                  19  \n",
       "52                  38  \n",
       "53                  35  \n",
       "54                  15  "
      ]
     },
     "execution_count": 3,
     "metadata": {},
     "output_type": "execute_result"
    }
   ],
   "source": [
    "df.iloc[50:55] # Escolha do numero de linhas para vizualizar default com 0 e 1"
   ]
  },
  {
   "cell_type": "code",
   "execution_count": 4,
   "id": "b07c6fc6",
   "metadata": {
    "execution": {
     "iopub.execute_input": "2023-10-28T14:41:19.948584Z",
     "iopub.status.busy": "2023-10-28T14:41:19.947776Z",
     "iopub.status.idle": "2023-10-28T14:41:19.954098Z",
     "shell.execute_reply": "2023-10-28T14:41:19.953180Z"
    },
    "id": "OgcVVJkIUOF-",
    "outputId": "94e9845f-f44a-4405-9916-b39525416221",
    "papermill": {
     "duration": 0.02882,
     "end_time": "2023-10-28T14:41:19.956214",
     "exception": false,
     "start_time": "2023-10-28T14:41:19.927394",
     "status": "completed"
    },
    "tags": []
   },
   "outputs": [
    {
     "data": {
      "text/plain": [
       "(10127, 16)"
      ]
     },
     "execution_count": 4,
     "metadata": {},
     "output_type": "execute_result"
    }
   ],
   "source": [
    "df.shape # retorna uma tupla (quantidade de linhas e colunas)"
   ]
  },
  {
   "cell_type": "code",
   "execution_count": 5,
   "id": "e03d8a35",
   "metadata": {
    "execution": {
     "iopub.execute_input": "2023-10-28T14:41:19.996041Z",
     "iopub.status.busy": "2023-10-28T14:41:19.995651Z",
     "iopub.status.idle": "2023-10-28T14:41:20.008542Z",
     "shell.execute_reply": "2023-10-28T14:41:20.007200Z"
    },
    "id": "w0gNPTKbXoLP",
    "outputId": "052b6112-6893-4b6d-b3ac-05de66c7a4de",
    "papermill": {
     "duration": 0.035615,
     "end_time": "2023-10-28T14:41:20.010781",
     "exception": false,
     "start_time": "2023-10-28T14:41:19.975166",
     "status": "completed"
    },
    "tags": []
   },
   "outputs": [
    {
     "data": {
      "text/plain": [
       "(8500, 16)"
      ]
     },
     "execution_count": 5,
     "metadata": {},
     "output_type": "execute_result"
    }
   ],
   "source": [
    "df[df['default'] == 0].shape # Adimplentes"
   ]
  },
  {
   "cell_type": "code",
   "execution_count": 6,
   "id": "4eb17c7e",
   "metadata": {
    "execution": {
     "iopub.execute_input": "2023-10-28T14:41:20.102615Z",
     "iopub.status.busy": "2023-10-28T14:41:20.102221Z",
     "iopub.status.idle": "2023-10-28T14:41:20.110642Z",
     "shell.execute_reply": "2023-10-28T14:41:20.109640Z"
    },
    "id": "R6jMqDweXz3x",
    "outputId": "2cfba3f1-f423-4ddd-acb2-553343c81b05",
    "papermill": {
     "duration": 0.082859,
     "end_time": "2023-10-28T14:41:20.112749",
     "exception": false,
     "start_time": "2023-10-28T14:41:20.029890",
     "status": "completed"
    },
    "tags": []
   },
   "outputs": [
    {
     "data": {
      "text/plain": [
       "(1627, 16)"
      ]
     },
     "execution_count": 6,
     "metadata": {},
     "output_type": "execute_result"
    }
   ],
   "source": [
    " df[df['default'] == 1].shape # Inadimplentes"
   ]
  },
  {
   "cell_type": "code",
   "execution_count": 7,
   "id": "78797ade",
   "metadata": {
    "execution": {
     "iopub.execute_input": "2023-10-28T14:41:20.152539Z",
     "iopub.status.busy": "2023-10-28T14:41:20.152184Z",
     "iopub.status.idle": "2023-10-28T14:41:20.162359Z",
     "shell.execute_reply": "2023-10-28T14:41:20.161089Z"
    },
    "id": "wYk7CImKYMvJ",
    "outputId": "324d128c-30b4-4fab-9deb-76d5308245dd",
    "papermill": {
     "duration": 0.032182,
     "end_time": "2023-10-28T14:41:20.164449",
     "exception": false,
     "start_time": "2023-10-28T14:41:20.132267",
     "status": "completed"
    },
    "tags": []
   },
   "outputs": [
    {
     "name": "stdout",
     "output_type": "stream",
     "text": [
      "A quantidade de adimplentes é 8500 o que representa um total de 83.93%\n",
      "A quantidade total de inadimplentes é 1627 o que representa um total de 16.07 %\n"
     ]
    }
   ],
   "source": [
    "total_clientes = df.shape[0]\n",
    "\n",
    "total_adimplentes = df[df['default'] == 0].shape[0]\n",
    "porcentagem_adimplentes = (100 * total_adimplentes / total_clientes)\n",
    "\n",
    "total_inadimplentes = df[df['default'] == 1].shape[0]\n",
    "porcentagem_inadimplentes = (100 * total_inadimplentes / total_clientes)\n",
    "\n",
    "print (f'A quantidade de adimplentes é {total_adimplentes} o que representa um total de {porcentagem_adimplentes:.2f}%')\n",
    "print (f'A quantidade total de inadimplentes é {total_inadimplentes} o que representa um total de {porcentagem_inadimplentes:.2f} %')"
   ]
  },
  {
   "cell_type": "markdown",
   "id": "46b65c9a",
   "metadata": {
    "id": "kth7tjPm0LMu",
    "papermill": {
     "duration": 0.018268,
     "end_time": "2023-10-28T14:41:20.201573",
     "exception": false,
     "start_time": "2023-10-28T14:41:20.183305",
     "status": "completed"
    },
    "tags": []
   },
   "source": [
    "# 2\\. **ORGANIZAÇÃO DOS DADOS**"
   ]
  },
  {
   "cell_type": "markdown",
   "id": "e1d7320b",
   "metadata": {
    "id": "7fpdu7xjoLEh",
    "papermill": {
     "duration": 0.019092,
     "end_time": "2023-10-28T14:41:20.239524",
     "exception": false,
     "start_time": "2023-10-28T14:41:20.220432",
     "status": "completed"
    },
    "tags": []
   },
   "source": [
    "## 2.1. **Schema**\n",
    "\n",
    "> Organização dos dados, incluindo o tipo de dados em cada coluna, os nomes das colunas e outras informações importantes que ajudam a entender como os dados estão formatados.\n",
    "\n"
   ]
  },
  {
   "cell_type": "code",
   "execution_count": 8,
   "id": "4f15fae0",
   "metadata": {
    "execution": {
     "iopub.execute_input": "2023-10-28T14:41:20.280662Z",
     "iopub.status.busy": "2023-10-28T14:41:20.279981Z",
     "iopub.status.idle": "2023-10-28T14:41:20.296481Z",
     "shell.execute_reply": "2023-10-28T14:41:20.295400Z"
    },
    "id": "skJVVxUEYonS",
    "outputId": "bd4908ee-8ebb-4385-c854-338372909d79",
    "papermill": {
     "duration": 0.039906,
     "end_time": "2023-10-28T14:41:20.298620",
     "exception": false,
     "start_time": "2023-10-28T14:41:20.258714",
     "status": "completed"
    },
    "tags": []
   },
   "outputs": [
    {
     "data": {
      "text/html": [
       "<div>\n",
       "<style scoped>\n",
       "    .dataframe tbody tr th:only-of-type {\n",
       "        vertical-align: middle;\n",
       "    }\n",
       "\n",
       "    .dataframe tbody tr th {\n",
       "        vertical-align: top;\n",
       "    }\n",
       "\n",
       "    .dataframe thead th {\n",
       "        text-align: right;\n",
       "    }\n",
       "</style>\n",
       "<table border=\"1\" class=\"dataframe\">\n",
       "  <thead>\n",
       "    <tr style=\"text-align: right;\">\n",
       "      <th></th>\n",
       "      <th>id</th>\n",
       "      <th>default</th>\n",
       "      <th>idade</th>\n",
       "      <th>sexo</th>\n",
       "      <th>dependentes</th>\n",
       "      <th>escolaridade</th>\n",
       "      <th>estado_civil</th>\n",
       "      <th>salario_anual</th>\n",
       "      <th>tipo_cartao</th>\n",
       "      <th>meses_de_relacionamento</th>\n",
       "      <th>qtd_produtos</th>\n",
       "      <th>iteracoes_12m</th>\n",
       "      <th>meses_inativo_12m</th>\n",
       "      <th>limite_credito</th>\n",
       "      <th>valor_transacoes_12m</th>\n",
       "      <th>qtd_transacoes_12m</th>\n",
       "    </tr>\n",
       "  </thead>\n",
       "  <tbody>\n",
       "    <tr>\n",
       "      <th>0</th>\n",
       "      <td>768805383</td>\n",
       "      <td>0</td>\n",
       "      <td>45</td>\n",
       "      <td>M</td>\n",
       "      <td>3</td>\n",
       "      <td>ensino medio</td>\n",
       "      <td>casado</td>\n",
       "      <td>$60K - $80K</td>\n",
       "      <td>blue</td>\n",
       "      <td>39</td>\n",
       "      <td>5</td>\n",
       "      <td>3</td>\n",
       "      <td>1</td>\n",
       "      <td>12.691,51</td>\n",
       "      <td>1.144,90</td>\n",
       "      <td>42</td>\n",
       "    </tr>\n",
       "    <tr>\n",
       "      <th>1</th>\n",
       "      <td>818770008</td>\n",
       "      <td>0</td>\n",
       "      <td>49</td>\n",
       "      <td>F</td>\n",
       "      <td>5</td>\n",
       "      <td>mestrado</td>\n",
       "      <td>solteiro</td>\n",
       "      <td>menos que $40K</td>\n",
       "      <td>blue</td>\n",
       "      <td>44</td>\n",
       "      <td>6</td>\n",
       "      <td>2</td>\n",
       "      <td>1</td>\n",
       "      <td>8.256,96</td>\n",
       "      <td>1.291,45</td>\n",
       "      <td>33</td>\n",
       "    </tr>\n",
       "    <tr>\n",
       "      <th>2</th>\n",
       "      <td>713982108</td>\n",
       "      <td>0</td>\n",
       "      <td>51</td>\n",
       "      <td>M</td>\n",
       "      <td>3</td>\n",
       "      <td>mestrado</td>\n",
       "      <td>casado</td>\n",
       "      <td>$80K - $120K</td>\n",
       "      <td>blue</td>\n",
       "      <td>36</td>\n",
       "      <td>4</td>\n",
       "      <td>0</td>\n",
       "      <td>1</td>\n",
       "      <td>3.418,56</td>\n",
       "      <td>1.887,72</td>\n",
       "      <td>20</td>\n",
       "    </tr>\n",
       "    <tr>\n",
       "      <th>3</th>\n",
       "      <td>769911858</td>\n",
       "      <td>0</td>\n",
       "      <td>40</td>\n",
       "      <td>F</td>\n",
       "      <td>4</td>\n",
       "      <td>ensino medio</td>\n",
       "      <td>NaN</td>\n",
       "      <td>menos que $40K</td>\n",
       "      <td>blue</td>\n",
       "      <td>34</td>\n",
       "      <td>3</td>\n",
       "      <td>1</td>\n",
       "      <td>4</td>\n",
       "      <td>3.313,03</td>\n",
       "      <td>1.171,56</td>\n",
       "      <td>20</td>\n",
       "    </tr>\n",
       "    <tr>\n",
       "      <th>4</th>\n",
       "      <td>709106358</td>\n",
       "      <td>0</td>\n",
       "      <td>40</td>\n",
       "      <td>M</td>\n",
       "      <td>3</td>\n",
       "      <td>sem educacao formal</td>\n",
       "      <td>casado</td>\n",
       "      <td>$60K - $80K</td>\n",
       "      <td>blue</td>\n",
       "      <td>21</td>\n",
       "      <td>5</td>\n",
       "      <td>0</td>\n",
       "      <td>1</td>\n",
       "      <td>4.716,22</td>\n",
       "      <td>816,08</td>\n",
       "      <td>28</td>\n",
       "    </tr>\n",
       "  </tbody>\n",
       "</table>\n",
       "</div>"
      ],
      "text/plain": [
       "          id  default  idade sexo  dependentes         escolaridade  \\\n",
       "0  768805383        0     45    M            3         ensino medio   \n",
       "1  818770008        0     49    F            5             mestrado   \n",
       "2  713982108        0     51    M            3             mestrado   \n",
       "3  769911858        0     40    F            4         ensino medio   \n",
       "4  709106358        0     40    M            3  sem educacao formal   \n",
       "\n",
       "  estado_civil   salario_anual tipo_cartao  meses_de_relacionamento  \\\n",
       "0       casado     $60K - $80K        blue                       39   \n",
       "1     solteiro  menos que $40K        blue                       44   \n",
       "2       casado    $80K - $120K        blue                       36   \n",
       "3          NaN  menos que $40K        blue                       34   \n",
       "4       casado     $60K - $80K        blue                       21   \n",
       "\n",
       "   qtd_produtos  iteracoes_12m  meses_inativo_12m limite_credito  \\\n",
       "0             5              3                  1      12.691,51   \n",
       "1             6              2                  1       8.256,96   \n",
       "2             4              0                  1       3.418,56   \n",
       "3             3              1                  4       3.313,03   \n",
       "4             5              0                  1       4.716,22   \n",
       "\n",
       "  valor_transacoes_12m  qtd_transacoes_12m  \n",
       "0             1.144,90                  42  \n",
       "1             1.291,45                  33  \n",
       "2             1.887,72                  20  \n",
       "3             1.171,56                  20  \n",
       "4               816,08                  28  "
      ]
     },
     "execution_count": 8,
     "metadata": {},
     "output_type": "execute_result"
    }
   ],
   "source": [
    "df.head(n = 5)"
   ]
  },
  {
   "cell_type": "markdown",
   "id": "402f028a",
   "metadata": {
    "id": "LegpWi4uqzb3",
    "papermill": {
     "duration": 0.019709,
     "end_time": "2023-10-28T14:41:20.337009",
     "exception": false,
     "start_time": "2023-10-28T14:41:20.317300",
     "status": "completed"
    },
    "tags": []
   },
   "source": [
    "- Nomes das colunas e os tipos de dados associados a cada uma"
   ]
  },
  {
   "cell_type": "code",
   "execution_count": 9,
   "id": "5173ceba",
   "metadata": {
    "execution": {
     "iopub.execute_input": "2023-10-28T14:41:20.378410Z",
     "iopub.status.busy": "2023-10-28T14:41:20.377694Z",
     "iopub.status.idle": "2023-10-28T14:41:20.385243Z",
     "shell.execute_reply": "2023-10-28T14:41:20.384359Z"
    },
    "id": "X5xBjAY-hTvK",
    "outputId": "e3f468e2-41f4-4e16-b19f-4bdf4649b8d8",
    "papermill": {
     "duration": 0.030814,
     "end_time": "2023-10-28T14:41:20.387313",
     "exception": false,
     "start_time": "2023-10-28T14:41:20.356499",
     "status": "completed"
    },
    "tags": []
   },
   "outputs": [
    {
     "data": {
      "text/plain": [
       "id                          int64\n",
       "default                     int64\n",
       "idade                       int64\n",
       "sexo                       object\n",
       "dependentes                 int64\n",
       "escolaridade               object\n",
       "estado_civil               object\n",
       "salario_anual              object\n",
       "tipo_cartao                object\n",
       "meses_de_relacionamento     int64\n",
       "qtd_produtos                int64\n",
       "iteracoes_12m               int64\n",
       "meses_inativo_12m           int64\n",
       "limite_credito             object\n",
       "valor_transacoes_12m       object\n",
       "qtd_transacoes_12m          int64\n",
       "dtype: object"
      ]
     },
     "execution_count": 9,
     "metadata": {},
     "output_type": "execute_result"
    }
   ],
   "source": [
    "df.dtypes"
   ]
  },
  {
   "cell_type": "markdown",
   "id": "808fe8a6",
   "metadata": {
    "id": "yl2caeFHq8rZ",
    "papermill": {
     "duration": 0.020093,
     "end_time": "2023-10-28T14:41:20.427677",
     "exception": false,
     "start_time": "2023-10-28T14:41:20.407584",
     "status": "completed"
    },
    "tags": []
   },
   "source": [
    "- Características categóricas."
   ]
  },
  {
   "cell_type": "code",
   "execution_count": 10,
   "id": "9f4df2c6",
   "metadata": {
    "execution": {
     "iopub.execute_input": "2023-10-28T14:41:20.470388Z",
     "iopub.status.busy": "2023-10-28T14:41:20.469778Z",
     "iopub.status.idle": "2023-10-28T14:41:20.518385Z",
     "shell.execute_reply": "2023-10-28T14:41:20.517691Z"
    },
    "id": "Mz36hzd2jYj2",
    "outputId": "afec00c2-fb02-4541-bde8-63324f69a12b",
    "papermill": {
     "duration": 0.072695,
     "end_time": "2023-10-28T14:41:20.520375",
     "exception": false,
     "start_time": "2023-10-28T14:41:20.447680",
     "status": "completed"
    },
    "tags": []
   },
   "outputs": [
    {
     "data": {
      "text/html": [
       "<div>\n",
       "<style scoped>\n",
       "    .dataframe tbody tr th:only-of-type {\n",
       "        vertical-align: middle;\n",
       "    }\n",
       "\n",
       "    .dataframe tbody tr th {\n",
       "        vertical-align: top;\n",
       "    }\n",
       "\n",
       "    .dataframe thead th {\n",
       "        text-align: right;\n",
       "    }\n",
       "</style>\n",
       "<table border=\"1\" class=\"dataframe\">\n",
       "  <thead>\n",
       "    <tr style=\"text-align: right;\">\n",
       "      <th></th>\n",
       "      <th>count</th>\n",
       "      <th>unique</th>\n",
       "      <th>top</th>\n",
       "      <th>freq</th>\n",
       "    </tr>\n",
       "  </thead>\n",
       "  <tbody>\n",
       "    <tr>\n",
       "      <th>sexo</th>\n",
       "      <td>10127</td>\n",
       "      <td>2</td>\n",
       "      <td>F</td>\n",
       "      <td>5358</td>\n",
       "    </tr>\n",
       "    <tr>\n",
       "      <th>escolaridade</th>\n",
       "      <td>8608</td>\n",
       "      <td>5</td>\n",
       "      <td>mestrado</td>\n",
       "      <td>3128</td>\n",
       "    </tr>\n",
       "    <tr>\n",
       "      <th>estado_civil</th>\n",
       "      <td>9378</td>\n",
       "      <td>3</td>\n",
       "      <td>casado</td>\n",
       "      <td>4687</td>\n",
       "    </tr>\n",
       "    <tr>\n",
       "      <th>salario_anual</th>\n",
       "      <td>9015</td>\n",
       "      <td>5</td>\n",
       "      <td>menos que $40K</td>\n",
       "      <td>3561</td>\n",
       "    </tr>\n",
       "    <tr>\n",
       "      <th>tipo_cartao</th>\n",
       "      <td>10127</td>\n",
       "      <td>4</td>\n",
       "      <td>blue</td>\n",
       "      <td>9436</td>\n",
       "    </tr>\n",
       "    <tr>\n",
       "      <th>limite_credito</th>\n",
       "      <td>10127</td>\n",
       "      <td>9272</td>\n",
       "      <td>1.438,21</td>\n",
       "      <td>11</td>\n",
       "    </tr>\n",
       "    <tr>\n",
       "      <th>valor_transacoes_12m</th>\n",
       "      <td>10127</td>\n",
       "      <td>10035</td>\n",
       "      <td>3.851,51</td>\n",
       "      <td>3</td>\n",
       "    </tr>\n",
       "  </tbody>\n",
       "</table>\n",
       "</div>"
      ],
      "text/plain": [
       "                      count unique             top  freq\n",
       "sexo                  10127      2               F  5358\n",
       "escolaridade           8608      5        mestrado  3128\n",
       "estado_civil           9378      3          casado  4687\n",
       "salario_anual          9015      5  menos que $40K  3561\n",
       "tipo_cartao           10127      4            blue  9436\n",
       "limite_credito        10127   9272        1.438,21    11\n",
       "valor_transacoes_12m  10127  10035        3.851,51     3"
      ]
     },
     "execution_count": 10,
     "metadata": {},
     "output_type": "execute_result"
    }
   ],
   "source": [
    "df.select_dtypes('object').describe().transpose()"
   ]
  },
  {
   "cell_type": "markdown",
   "id": "f3a5ddc8",
   "metadata": {
    "id": "F4765annrPM0",
    "papermill": {
     "duration": 0.019816,
     "end_time": "2023-10-28T14:41:20.560045",
     "exception": false,
     "start_time": "2023-10-28T14:41:20.540229",
     "status": "completed"
    },
    "tags": []
   },
   "source": [
    "- Características numéricas."
   ]
  },
  {
   "cell_type": "code",
   "execution_count": 11,
   "id": "fefae65d",
   "metadata": {
    "execution": {
     "iopub.execute_input": "2023-10-28T14:41:20.601721Z",
     "iopub.status.busy": "2023-10-28T14:41:20.601100Z",
     "iopub.status.idle": "2023-10-28T14:41:20.642500Z",
     "shell.execute_reply": "2023-10-28T14:41:20.641795Z"
    },
    "id": "au7HoUWhrsCA",
    "outputId": "18e8aa84-5899-4a72-d460-9c5474bf0a38",
    "papermill": {
     "duration": 0.064691,
     "end_time": "2023-10-28T14:41:20.644561",
     "exception": false,
     "start_time": "2023-10-28T14:41:20.579870",
     "status": "completed"
    },
    "tags": []
   },
   "outputs": [
    {
     "data": {
      "text/html": [
       "<div>\n",
       "<style scoped>\n",
       "    .dataframe tbody tr th:only-of-type {\n",
       "        vertical-align: middle;\n",
       "    }\n",
       "\n",
       "    .dataframe tbody tr th {\n",
       "        vertical-align: top;\n",
       "    }\n",
       "\n",
       "    .dataframe thead th {\n",
       "        text-align: right;\n",
       "    }\n",
       "</style>\n",
       "<table border=\"1\" class=\"dataframe\">\n",
       "  <thead>\n",
       "    <tr style=\"text-align: right;\">\n",
       "      <th></th>\n",
       "      <th>count</th>\n",
       "      <th>mean</th>\n",
       "      <th>std</th>\n",
       "      <th>min</th>\n",
       "      <th>25%</th>\n",
       "      <th>50%</th>\n",
       "      <th>75%</th>\n",
       "      <th>max</th>\n",
       "    </tr>\n",
       "  </thead>\n",
       "  <tbody>\n",
       "    <tr>\n",
       "      <th>default</th>\n",
       "      <td>10127.0</td>\n",
       "      <td>0.160660</td>\n",
       "      <td>0.367235</td>\n",
       "      <td>0.0</td>\n",
       "      <td>0.0</td>\n",
       "      <td>0.0</td>\n",
       "      <td>0.0</td>\n",
       "      <td>1.0</td>\n",
       "    </tr>\n",
       "    <tr>\n",
       "      <th>idade</th>\n",
       "      <td>10127.0</td>\n",
       "      <td>46.325960</td>\n",
       "      <td>8.016814</td>\n",
       "      <td>26.0</td>\n",
       "      <td>41.0</td>\n",
       "      <td>46.0</td>\n",
       "      <td>52.0</td>\n",
       "      <td>73.0</td>\n",
       "    </tr>\n",
       "    <tr>\n",
       "      <th>dependentes</th>\n",
       "      <td>10127.0</td>\n",
       "      <td>2.346203</td>\n",
       "      <td>1.298908</td>\n",
       "      <td>0.0</td>\n",
       "      <td>1.0</td>\n",
       "      <td>2.0</td>\n",
       "      <td>3.0</td>\n",
       "      <td>5.0</td>\n",
       "    </tr>\n",
       "    <tr>\n",
       "      <th>meses_de_relacionamento</th>\n",
       "      <td>10127.0</td>\n",
       "      <td>35.928409</td>\n",
       "      <td>7.986416</td>\n",
       "      <td>13.0</td>\n",
       "      <td>31.0</td>\n",
       "      <td>36.0</td>\n",
       "      <td>40.0</td>\n",
       "      <td>56.0</td>\n",
       "    </tr>\n",
       "    <tr>\n",
       "      <th>qtd_produtos</th>\n",
       "      <td>10127.0</td>\n",
       "      <td>3.812580</td>\n",
       "      <td>1.554408</td>\n",
       "      <td>1.0</td>\n",
       "      <td>3.0</td>\n",
       "      <td>4.0</td>\n",
       "      <td>5.0</td>\n",
       "      <td>6.0</td>\n",
       "    </tr>\n",
       "    <tr>\n",
       "      <th>iteracoes_12m</th>\n",
       "      <td>10127.0</td>\n",
       "      <td>2.455317</td>\n",
       "      <td>1.106225</td>\n",
       "      <td>0.0</td>\n",
       "      <td>2.0</td>\n",
       "      <td>2.0</td>\n",
       "      <td>3.0</td>\n",
       "      <td>6.0</td>\n",
       "    </tr>\n",
       "    <tr>\n",
       "      <th>meses_inativo_12m</th>\n",
       "      <td>10127.0</td>\n",
       "      <td>2.341167</td>\n",
       "      <td>1.010622</td>\n",
       "      <td>0.0</td>\n",
       "      <td>2.0</td>\n",
       "      <td>2.0</td>\n",
       "      <td>3.0</td>\n",
       "      <td>6.0</td>\n",
       "    </tr>\n",
       "    <tr>\n",
       "      <th>qtd_transacoes_12m</th>\n",
       "      <td>10127.0</td>\n",
       "      <td>64.858695</td>\n",
       "      <td>23.472570</td>\n",
       "      <td>10.0</td>\n",
       "      <td>45.0</td>\n",
       "      <td>67.0</td>\n",
       "      <td>81.0</td>\n",
       "      <td>139.0</td>\n",
       "    </tr>\n",
       "  </tbody>\n",
       "</table>\n",
       "</div>"
      ],
      "text/plain": [
       "                           count       mean        std   min   25%   50%  \\\n",
       "default                  10127.0   0.160660   0.367235   0.0   0.0   0.0   \n",
       "idade                    10127.0  46.325960   8.016814  26.0  41.0  46.0   \n",
       "dependentes              10127.0   2.346203   1.298908   0.0   1.0   2.0   \n",
       "meses_de_relacionamento  10127.0  35.928409   7.986416  13.0  31.0  36.0   \n",
       "qtd_produtos             10127.0   3.812580   1.554408   1.0   3.0   4.0   \n",
       "iteracoes_12m            10127.0   2.455317   1.106225   0.0   2.0   2.0   \n",
       "meses_inativo_12m        10127.0   2.341167   1.010622   0.0   2.0   2.0   \n",
       "qtd_transacoes_12m       10127.0  64.858695  23.472570  10.0  45.0  67.0   \n",
       "\n",
       "                          75%    max  \n",
       "default                   0.0    1.0  \n",
       "idade                    52.0   73.0  \n",
       "dependentes               3.0    5.0  \n",
       "meses_de_relacionamento  40.0   56.0  \n",
       "qtd_produtos              5.0    6.0  \n",
       "iteracoes_12m             3.0    6.0  \n",
       "meses_inativo_12m         3.0    6.0  \n",
       "qtd_transacoes_12m       81.0  139.0  "
      ]
     },
     "execution_count": 11,
     "metadata": {},
     "output_type": "execute_result"
    }
   ],
   "source": [
    "df.drop('id', axis=1).select_dtypes('number').describe().transpose()"
   ]
  },
  {
   "cell_type": "markdown",
   "id": "eaf9f4de",
   "metadata": {
    "id": "1Bb76wiWvmFR",
    "papermill": {
     "duration": 0.02017,
     "end_time": "2023-10-28T14:41:20.685566",
     "exception": false,
     "start_time": "2023-10-28T14:41:20.665396",
     "status": "completed"
    },
    "tags": []
   },
   "source": [
    "## 2.2.**Pré-processamento de Dados**\n",
    "\n",
    "> Os dados são limpos e preparados para análise. Isso envolve lidar com valores ausentes, padronização, normalização e qualquer transformação necessária.\n",
    "\n",
    "\n",
    ">  \n",
    "    - Vazios (`\"\"`);\n",
    "    - Nulos (`None`);\n",
    "    - Não disponíveis ou aplicaveis (`na`, `NA`, etc.);\n",
    "    - Não numérico (`nan`, `NaN`, `NAN`, etc)."
   ]
  },
  {
   "cell_type": "code",
   "execution_count": 12,
   "id": "a0fd1d78",
   "metadata": {
    "execution": {
     "iopub.execute_input": "2023-10-28T14:41:20.728697Z",
     "iopub.status.busy": "2023-10-28T14:41:20.728164Z",
     "iopub.status.idle": "2023-10-28T14:41:20.744508Z",
     "shell.execute_reply": "2023-10-28T14:41:20.743479Z"
    },
    "id": "y3b7rBlkyqNl",
    "outputId": "962c5b39-e775-4773-a85d-21094e1d0330",
    "papermill": {
     "duration": 0.04035,
     "end_time": "2023-10-28T14:41:20.746420",
     "exception": false,
     "start_time": "2023-10-28T14:41:20.706070",
     "status": "completed"
    },
    "tags": []
   },
   "outputs": [
    {
     "data": {
      "text/html": [
       "<div>\n",
       "<style scoped>\n",
       "    .dataframe tbody tr th:only-of-type {\n",
       "        vertical-align: middle;\n",
       "    }\n",
       "\n",
       "    .dataframe tbody tr th {\n",
       "        vertical-align: top;\n",
       "    }\n",
       "\n",
       "    .dataframe thead th {\n",
       "        text-align: right;\n",
       "    }\n",
       "</style>\n",
       "<table border=\"1\" class=\"dataframe\">\n",
       "  <thead>\n",
       "    <tr style=\"text-align: right;\">\n",
       "      <th></th>\n",
       "      <th>id</th>\n",
       "      <th>default</th>\n",
       "      <th>idade</th>\n",
       "      <th>sexo</th>\n",
       "      <th>dependentes</th>\n",
       "      <th>escolaridade</th>\n",
       "      <th>estado_civil</th>\n",
       "      <th>salario_anual</th>\n",
       "      <th>tipo_cartao</th>\n",
       "      <th>meses_de_relacionamento</th>\n",
       "      <th>qtd_produtos</th>\n",
       "      <th>iteracoes_12m</th>\n",
       "      <th>meses_inativo_12m</th>\n",
       "      <th>limite_credito</th>\n",
       "      <th>valor_transacoes_12m</th>\n",
       "      <th>qtd_transacoes_12m</th>\n",
       "    </tr>\n",
       "  </thead>\n",
       "  <tbody>\n",
       "    <tr>\n",
       "      <th>0</th>\n",
       "      <td>768805383</td>\n",
       "      <td>0</td>\n",
       "      <td>45</td>\n",
       "      <td>M</td>\n",
       "      <td>3</td>\n",
       "      <td>ensino medio</td>\n",
       "      <td>casado</td>\n",
       "      <td>$60K - $80K</td>\n",
       "      <td>blue</td>\n",
       "      <td>39</td>\n",
       "      <td>5</td>\n",
       "      <td>3</td>\n",
       "      <td>1</td>\n",
       "      <td>12.691,51</td>\n",
       "      <td>1.144,90</td>\n",
       "      <td>42</td>\n",
       "    </tr>\n",
       "    <tr>\n",
       "      <th>1</th>\n",
       "      <td>818770008</td>\n",
       "      <td>0</td>\n",
       "      <td>49</td>\n",
       "      <td>F</td>\n",
       "      <td>5</td>\n",
       "      <td>mestrado</td>\n",
       "      <td>solteiro</td>\n",
       "      <td>menos que $40K</td>\n",
       "      <td>blue</td>\n",
       "      <td>44</td>\n",
       "      <td>6</td>\n",
       "      <td>2</td>\n",
       "      <td>1</td>\n",
       "      <td>8.256,96</td>\n",
       "      <td>1.291,45</td>\n",
       "      <td>33</td>\n",
       "    </tr>\n",
       "    <tr>\n",
       "      <th>2</th>\n",
       "      <td>713982108</td>\n",
       "      <td>0</td>\n",
       "      <td>51</td>\n",
       "      <td>M</td>\n",
       "      <td>3</td>\n",
       "      <td>mestrado</td>\n",
       "      <td>casado</td>\n",
       "      <td>$80K - $120K</td>\n",
       "      <td>blue</td>\n",
       "      <td>36</td>\n",
       "      <td>4</td>\n",
       "      <td>0</td>\n",
       "      <td>1</td>\n",
       "      <td>3.418,56</td>\n",
       "      <td>1.887,72</td>\n",
       "      <td>20</td>\n",
       "    </tr>\n",
       "    <tr>\n",
       "      <th>3</th>\n",
       "      <td>769911858</td>\n",
       "      <td>0</td>\n",
       "      <td>40</td>\n",
       "      <td>F</td>\n",
       "      <td>4</td>\n",
       "      <td>ensino medio</td>\n",
       "      <td>NaN</td>\n",
       "      <td>menos que $40K</td>\n",
       "      <td>blue</td>\n",
       "      <td>34</td>\n",
       "      <td>3</td>\n",
       "      <td>1</td>\n",
       "      <td>4</td>\n",
       "      <td>3.313,03</td>\n",
       "      <td>1.171,56</td>\n",
       "      <td>20</td>\n",
       "    </tr>\n",
       "    <tr>\n",
       "      <th>4</th>\n",
       "      <td>709106358</td>\n",
       "      <td>0</td>\n",
       "      <td>40</td>\n",
       "      <td>M</td>\n",
       "      <td>3</td>\n",
       "      <td>sem educacao formal</td>\n",
       "      <td>casado</td>\n",
       "      <td>$60K - $80K</td>\n",
       "      <td>blue</td>\n",
       "      <td>21</td>\n",
       "      <td>5</td>\n",
       "      <td>0</td>\n",
       "      <td>1</td>\n",
       "      <td>4.716,22</td>\n",
       "      <td>816,08</td>\n",
       "      <td>28</td>\n",
       "    </tr>\n",
       "  </tbody>\n",
       "</table>\n",
       "</div>"
      ],
      "text/plain": [
       "          id  default  idade sexo  dependentes         escolaridade  \\\n",
       "0  768805383        0     45    M            3         ensino medio   \n",
       "1  818770008        0     49    F            5             mestrado   \n",
       "2  713982108        0     51    M            3             mestrado   \n",
       "3  769911858        0     40    F            4         ensino medio   \n",
       "4  709106358        0     40    M            3  sem educacao formal   \n",
       "\n",
       "  estado_civil   salario_anual tipo_cartao  meses_de_relacionamento  \\\n",
       "0       casado     $60K - $80K        blue                       39   \n",
       "1     solteiro  menos que $40K        blue                       44   \n",
       "2       casado    $80K - $120K        blue                       36   \n",
       "3          NaN  menos que $40K        blue                       34   \n",
       "4       casado     $60K - $80K        blue                       21   \n",
       "\n",
       "   qtd_produtos  iteracoes_12m  meses_inativo_12m limite_credito  \\\n",
       "0             5              3                  1      12.691,51   \n",
       "1             6              2                  1       8.256,96   \n",
       "2             4              0                  1       3.418,56   \n",
       "3             3              1                  4       3.313,03   \n",
       "4             5              0                  1       4.716,22   \n",
       "\n",
       "  valor_transacoes_12m  qtd_transacoes_12m  \n",
       "0             1.144,90                  42  \n",
       "1             1.291,45                  33  \n",
       "2             1.887,72                  20  \n",
       "3             1.171,56                  20  \n",
       "4               816,08                  28  "
      ]
     },
     "execution_count": 12,
     "metadata": {},
     "output_type": "execute_result"
    }
   ],
   "source": [
    "df.head()"
   ]
  },
  {
   "cell_type": "markdown",
   "id": "064e6988",
   "metadata": {
    "id": "84DlqP2Byt_s",
    "papermill": {
     "duration": 0.021072,
     "end_time": "2023-10-28T14:41:20.787632",
     "exception": false,
     "start_time": "2023-10-28T14:41:20.766560",
     "status": "completed"
    },
    "tags": []
   },
   "source": [
    "- É possível identificar quais colunas têm valores ausentes."
   ]
  },
  {
   "cell_type": "code",
   "execution_count": 13,
   "id": "672ac43c",
   "metadata": {
    "execution": {
     "iopub.execute_input": "2023-10-28T14:41:20.829194Z",
     "iopub.status.busy": "2023-10-28T14:41:20.828853Z",
     "iopub.status.idle": "2023-10-28T14:41:20.843037Z",
     "shell.execute_reply": "2023-10-28T14:41:20.842316Z"
    },
    "id": "HqFbZ9oGsmRE",
    "outputId": "4740bcec-1f83-49c5-b6fe-75971546f270",
    "papermill": {
     "duration": 0.037481,
     "end_time": "2023-10-28T14:41:20.845154",
     "exception": false,
     "start_time": "2023-10-28T14:41:20.807673",
     "status": "completed"
    },
    "tags": []
   },
   "outputs": [
    {
     "data": {
      "text/plain": [
       "id                         False\n",
       "default                    False\n",
       "idade                      False\n",
       "sexo                       False\n",
       "dependentes                False\n",
       "escolaridade                True\n",
       "estado_civil                True\n",
       "salario_anual               True\n",
       "tipo_cartao                False\n",
       "meses_de_relacionamento    False\n",
       "qtd_produtos               False\n",
       "iteracoes_12m              False\n",
       "meses_inativo_12m          False\n",
       "limite_credito             False\n",
       "valor_transacoes_12m       False\n",
       "qtd_transacoes_12m         False\n",
       "dtype: bool"
      ]
     },
     "execution_count": 13,
     "metadata": {},
     "output_type": "execute_result"
    }
   ],
   "source": [
    "df.isna().any()"
   ]
  },
  {
   "cell_type": "markdown",
   "id": "4f784350",
   "metadata": {
    "id": "eR8wlNl3y9aJ",
    "papermill": {
     "duration": 0.021271,
     "end_time": "2023-10-28T14:41:20.888227",
     "exception": false,
     "start_time": "2023-10-28T14:41:20.866956",
     "status": "completed"
    },
    "tags": []
   },
   "source": [
    "- A função a seguir calcula estatísticas relacionadas às colunas com dados ausentes."
   ]
  },
  {
   "cell_type": "code",
   "execution_count": 14,
   "id": "e29801a4",
   "metadata": {
    "execution": {
     "iopub.execute_input": "2023-10-28T14:41:20.932366Z",
     "iopub.status.busy": "2023-10-28T14:41:20.931620Z",
     "iopub.status.idle": "2023-10-28T14:41:20.939587Z",
     "shell.execute_reply": "2023-10-28T14:41:20.938610Z"
    },
    "id": "29SHeptbtE1P",
    "papermill": {
     "duration": 0.032865,
     "end_time": "2023-10-28T14:41:20.941764",
     "exception": false,
     "start_time": "2023-10-28T14:41:20.908899",
     "status": "completed"
    },
    "tags": []
   },
   "outputs": [],
   "source": [
    "def dados_faltantes(df: pd.DataFrame):\n",
    "  dados_faltantes = []\n",
    "  for col in df.columns:\n",
    "    if df[col].isna().any():\n",
    "      qtd,_ =  df[df[col].isna()].shape\n",
    "      total,_ = df.shape\n",
    "      porcentagem = round(100 * qtd / total, 2)\n",
    "\n",
    "      msg = f'A quantidade de dados faltantes em {col} é de {qtd} e representa {porcentagem} %'\n",
    "\n",
    "      dict_dados_faltantes = {col: {'quantidade': qtd, 'porcentagem': porcentagem, 'mensagem': msg}}\n",
    "      dados_faltantes.append(dict_dados_faltantes)\n",
    "\n",
    "  for stats in dados_faltantes:\n",
    "    print(stats[list(stats.keys())[0]]['mensagem'])"
   ]
  },
  {
   "cell_type": "code",
   "execution_count": 15,
   "id": "66b4b98e",
   "metadata": {
    "execution": {
     "iopub.execute_input": "2023-10-28T14:41:20.986155Z",
     "iopub.status.busy": "2023-10-28T14:41:20.985411Z",
     "iopub.status.idle": "2023-10-28T14:41:21.006543Z",
     "shell.execute_reply": "2023-10-28T14:41:21.005333Z"
    },
    "id": "HldVHEUAzyP6",
    "outputId": "ae8b4f26-c8cc-4e90-8a8b-8d2ebfcd2202",
    "papermill": {
     "duration": 0.046188,
     "end_time": "2023-10-28T14:41:21.008776",
     "exception": false,
     "start_time": "2023-10-28T14:41:20.962588",
     "status": "completed"
    },
    "tags": []
   },
   "outputs": [
    {
     "name": "stdout",
     "output_type": "stream",
     "text": [
      "Estatíscas de Dados Faltantes por área TOTAL: \n",
      "A quantidade de dados faltantes em escolaridade é de 1519 e representa 15.0 %\n",
      "A quantidade de dados faltantes em estado_civil é de 749 e representa 7.4 %\n",
      "A quantidade de dados faltantes em salario_anual é de 1112 e representa 10.98 %\n"
     ]
    }
   ],
   "source": [
    "print ('Estatíscas de Dados Faltantes por área TOTAL: ')\n",
    "dados_faltantes(df=df)"
   ]
  },
  {
   "cell_type": "code",
   "execution_count": 16,
   "id": "b8db713c",
   "metadata": {
    "execution": {
     "iopub.execute_input": "2023-10-28T14:41:21.053073Z",
     "iopub.status.busy": "2023-10-28T14:41:21.052389Z",
     "iopub.status.idle": "2023-10-28T14:41:21.073585Z",
     "shell.execute_reply": "2023-10-28T14:41:21.072327Z"
    },
    "id": "8y4TfyGK3fWU",
    "outputId": "a226ee82-8c6b-4361-ee2a-67cece055915",
    "papermill": {
     "duration": 0.045707,
     "end_time": "2023-10-28T14:41:21.075895",
     "exception": false,
     "start_time": "2023-10-28T14:41:21.030188",
     "status": "completed"
    },
    "tags": []
   },
   "outputs": [
    {
     "name": "stdout",
     "output_type": "stream",
     "text": [
      "Estatíscas de Dados Faltantes por área de ADIMPLENTES: \n",
      "\n",
      "A quantidade de dados faltantes em escolaridade é de 1263 e representa 14.86 %\n",
      "A quantidade de dados faltantes em estado_civil é de 620 e representa 7.29 %\n",
      "A quantidade de dados faltantes em salario_anual é de 925 e representa 10.88 %\n"
     ]
    }
   ],
   "source": [
    "print ('Estatíscas de Dados Faltantes por área de ADIMPLENTES: ')\n",
    "print ()\n",
    "dados_faltantes(df = df[df['default'] == 0])"
   ]
  },
  {
   "cell_type": "code",
   "execution_count": 17,
   "id": "d9566a1e",
   "metadata": {
    "execution": {
     "iopub.execute_input": "2023-10-28T14:41:21.121010Z",
     "iopub.status.busy": "2023-10-28T14:41:21.120612Z",
     "iopub.status.idle": "2023-10-28T14:41:21.133856Z",
     "shell.execute_reply": "2023-10-28T14:41:21.132688Z"
    },
    "id": "48JzKv6Y5COz",
    "outputId": "aac6dc0f-ceb7-451f-a2c0-c6b5c7c67f85",
    "papermill": {
     "duration": 0.038303,
     "end_time": "2023-10-28T14:41:21.136048",
     "exception": false,
     "start_time": "2023-10-28T14:41:21.097745",
     "status": "completed"
    },
    "tags": []
   },
   "outputs": [
    {
     "name": "stdout",
     "output_type": "stream",
     "text": [
      "Estatíscas de Dados Faltantes por área de INADIMPLENTES: \n",
      "\n",
      "A quantidade de dados faltantes em escolaridade é de 256 e representa 15.73 %\n",
      "A quantidade de dados faltantes em estado_civil é de 129 e representa 7.93 %\n",
      "A quantidade de dados faltantes em salario_anual é de 187 e representa 11.49 %\n"
     ]
    }
   ],
   "source": [
    "print ('Estatíscas de Dados Faltantes por área de INADIMPLENTES: ')\n",
    "print ()\n",
    "dados_faltantes(df=df[df['default'] == 1])"
   ]
  },
  {
   "cell_type": "markdown",
   "id": "50453823",
   "metadata": {
    "id": "mlyGKkb01hUk",
    "papermill": {
     "duration": 0.020122,
     "end_time": "2023-10-28T14:41:21.176545",
     "exception": false,
     "start_time": "2023-10-28T14:41:21.156423",
     "status": "completed"
    },
    "tags": []
   },
   "source": [
    "## 2.3.**Data Wrangling**\n",
    "\n",
    "> A etapa de preparação de dados, conhecida como \"data wrangling,\" envolve a transformação e limpeza do conjunto de dados para facilitar a análise. Especificamente, vamos realizar as seguintes ações:\n",
    "\n",
    "- Atualizar o esquema das nossas colunas.\n",
    "- Eliminar os dados ausentes.\n",
    "\n"
   ]
  },
  {
   "cell_type": "markdown",
   "id": "5d02d4fe",
   "metadata": {
    "id": "r5FACnvL8TJu",
    "papermill": {
     "duration": 0.02113,
     "end_time": "2023-10-28T14:41:21.218879",
     "exception": false,
     "start_time": "2023-10-28T14:41:21.197749",
     "status": "completed"
    },
    "tags": []
   },
   "source": [
    " - Durante a fase de exploração, identificamos que as colunas \"limite_credito\" e \"valor_transacoes_12m\" estavam sendo erroneamente classificadas como categóricas (com um tipo de dados \"object\")."
   ]
  },
  {
   "cell_type": "code",
   "execution_count": 18,
   "id": "932d419e",
   "metadata": {
    "execution": {
     "iopub.execute_input": "2023-10-28T14:41:21.262883Z",
     "iopub.status.busy": "2023-10-28T14:41:21.262193Z",
     "iopub.status.idle": "2023-10-28T14:41:21.270861Z",
     "shell.execute_reply": "2023-10-28T14:41:21.270030Z"
    },
    "id": "86aZ4jwOM_8G",
    "outputId": "ef171c4b-999d-449e-c9e6-7ccacc303c3e",
    "papermill": {
     "duration": 0.033399,
     "end_time": "2023-10-28T14:41:21.272951",
     "exception": false,
     "start_time": "2023-10-28T14:41:21.239552",
     "status": "completed"
    },
    "tags": []
   },
   "outputs": [
    {
     "data": {
      "text/plain": [
       "limite_credito          object\n",
       "valor_transacoes_12m    object\n",
       "dtype: object"
      ]
     },
     "execution_count": 18,
     "metadata": {},
     "output_type": "execute_result"
    }
   ],
   "source": [
    "df[['limite_credito', 'valor_transacoes_12m']].dtypes"
   ]
  },
  {
   "cell_type": "code",
   "execution_count": 19,
   "id": "f670cae0",
   "metadata": {
    "execution": {
     "iopub.execute_input": "2023-10-28T14:41:21.317649Z",
     "iopub.status.busy": "2023-10-28T14:41:21.316909Z",
     "iopub.status.idle": "2023-10-28T14:41:21.328358Z",
     "shell.execute_reply": "2023-10-28T14:41:21.327363Z"
    },
    "id": "SH20ownZN_a5",
    "outputId": "c5482aae-f6bc-4c3e-9657-4d548184860a",
    "papermill": {
     "duration": 0.036345,
     "end_time": "2023-10-28T14:41:21.330502",
     "exception": false,
     "start_time": "2023-10-28T14:41:21.294157",
     "status": "completed"
    },
    "tags": []
   },
   "outputs": [
    {
     "data": {
      "text/html": [
       "<div>\n",
       "<style scoped>\n",
       "    .dataframe tbody tr th:only-of-type {\n",
       "        vertical-align: middle;\n",
       "    }\n",
       "\n",
       "    .dataframe tbody tr th {\n",
       "        vertical-align: top;\n",
       "    }\n",
       "\n",
       "    .dataframe thead th {\n",
       "        text-align: right;\n",
       "    }\n",
       "</style>\n",
       "<table border=\"1\" class=\"dataframe\">\n",
       "  <thead>\n",
       "    <tr style=\"text-align: right;\">\n",
       "      <th></th>\n",
       "      <th>limite_credito</th>\n",
       "      <th>valor_transacoes_12m</th>\n",
       "    </tr>\n",
       "  </thead>\n",
       "  <tbody>\n",
       "    <tr>\n",
       "      <th>0</th>\n",
       "      <td>12.691,51</td>\n",
       "      <td>1.144,90</td>\n",
       "    </tr>\n",
       "    <tr>\n",
       "      <th>1</th>\n",
       "      <td>8.256,96</td>\n",
       "      <td>1.291,45</td>\n",
       "    </tr>\n",
       "    <tr>\n",
       "      <th>2</th>\n",
       "      <td>3.418,56</td>\n",
       "      <td>1.887,72</td>\n",
       "    </tr>\n",
       "    <tr>\n",
       "      <th>3</th>\n",
       "      <td>3.313,03</td>\n",
       "      <td>1.171,56</td>\n",
       "    </tr>\n",
       "    <tr>\n",
       "      <th>4</th>\n",
       "      <td>4.716,22</td>\n",
       "      <td>816,08</td>\n",
       "    </tr>\n",
       "  </tbody>\n",
       "</table>\n",
       "</div>"
      ],
      "text/plain": [
       "  limite_credito valor_transacoes_12m\n",
       "0      12.691,51             1.144,90\n",
       "1       8.256,96             1.291,45\n",
       "2       3.418,56             1.887,72\n",
       "3       3.313,03             1.171,56\n",
       "4       4.716,22               816,08"
      ]
     },
     "execution_count": 19,
     "metadata": {},
     "output_type": "execute_result"
    }
   ],
   "source": [
    "df[['limite_credito', 'valor_transacoes_12m']].head(n = 5)"
   ]
  },
  {
   "cell_type": "markdown",
   "id": "ccc7781b",
   "metadata": {
    "id": "rjFVev618gs3",
    "papermill": {
     "duration": 0.02168,
     "end_time": "2023-10-28T14:41:21.374388",
     "exception": false,
     "start_time": "2023-10-28T14:41:21.352708",
     "status": "completed"
    },
    "tags": []
   },
   "source": [
    "- Iremos criar uma função `limpar` para realizar a limpeza dos dados. No entanto, antes de implementá-la, vamos testá-la."
   ]
  },
  {
   "cell_type": "code",
   "execution_count": 20,
   "id": "3b2f829d",
   "metadata": {
    "execution": {
     "iopub.execute_input": "2023-10-28T14:41:21.420972Z",
     "iopub.status.busy": "2023-10-28T14:41:21.420574Z",
     "iopub.status.idle": "2023-10-28T14:41:21.425695Z",
     "shell.execute_reply": "2023-10-28T14:41:21.424654Z"
    },
    "id": "V6oPYU9eXFQS",
    "papermill": {
     "duration": 0.030883,
     "end_time": "2023-10-28T14:41:21.427933",
     "exception": false,
     "start_time": "2023-10-28T14:41:21.397050",
     "status": "completed"
    },
    "tags": []
   },
   "outputs": [],
   "source": [
    "def limpar(valor):\n",
    "  if isinstance(valor, str):\n",
    "    valor_limpo = valor.replace('.', '').replace(',', '.')\n",
    "    return float(valor_limpo)\n",
    "  else:\n",
    "    return valor"
   ]
  },
  {
   "cell_type": "code",
   "execution_count": 21,
   "id": "f3310b08",
   "metadata": {
    "execution": {
     "iopub.execute_input": "2023-10-28T14:41:21.473284Z",
     "iopub.status.busy": "2023-10-28T14:41:21.472918Z",
     "iopub.status.idle": "2023-10-28T14:41:21.478711Z",
     "shell.execute_reply": "2023-10-28T14:41:21.477728Z"
    },
    "id": "L7yFciAF87um",
    "outputId": "0e4e3bdd-01ee-4985-e739-27ad587ab259",
    "papermill": {
     "duration": 0.031161,
     "end_time": "2023-10-28T14:41:21.481271",
     "exception": false,
     "start_time": "2023-10-28T14:41:21.450110",
     "status": "completed"
    },
    "tags": []
   },
   "outputs": [
    {
     "name": "stdout",
     "output_type": "stream",
     "text": [
      "[12691.51, 8256.96, 3418.56, 3313.03, 4716.22]\n"
     ]
    }
   ],
   "source": [
    "valores_teste = ['12.691,51', '8.256,96', '3.418,56', '3.313,03', '4.716,22']\n",
    "valores_limpos = [limpar(valor) for valor in valores_teste]\n",
    "\n",
    "print(valores_limpos)"
   ]
  },
  {
   "cell_type": "markdown",
   "id": "30b87ee7",
   "metadata": {
    "id": "oAYWV7yI9veU",
    "papermill": {
     "duration": 0.022157,
     "end_time": "2023-10-28T14:41:21.524898",
     "exception": false,
     "start_time": "2023-10-28T14:41:21.502741",
     "status": "completed"
    },
    "tags": []
   },
   "source": [
    "- Agora que a função `limpar` de limpeza está pronta, basta aplicá-la às colunas de interesse."
   ]
  },
  {
   "cell_type": "code",
   "execution_count": 22,
   "id": "0dc0e871",
   "metadata": {
    "execution": {
     "iopub.execute_input": "2023-10-28T14:41:21.569647Z",
     "iopub.status.busy": "2023-10-28T14:41:21.568978Z",
     "iopub.status.idle": "2023-10-28T14:41:21.593690Z",
     "shell.execute_reply": "2023-10-28T14:41:21.592754Z"
    },
    "id": "qhT3R5GVRYrY",
    "papermill": {
     "duration": 0.049579,
     "end_time": "2023-10-28T14:41:21.595954",
     "exception": false,
     "start_time": "2023-10-28T14:41:21.546375",
     "status": "completed"
    },
    "tags": []
   },
   "outputs": [],
   "source": [
    "df['valor_transacoes_12m'] = df['valor_transacoes_12m'].apply(limpar)\n",
    "df['limite_credito'] = df['limite_credito'].apply(limpar)"
   ]
  },
  {
   "cell_type": "markdown",
   "id": "bffdc25a",
   "metadata": {
    "id": "SVWBzuVF994u",
    "papermill": {
     "duration": 0.021454,
     "end_time": "2023-10-28T14:41:21.638287",
     "exception": false,
     "start_time": "2023-10-28T14:41:21.616833",
     "status": "completed"
    },
    "tags": []
   },
   "source": [
    "- Verificando o novo Schema:"
   ]
  },
  {
   "cell_type": "code",
   "execution_count": 23,
   "id": "e193b247",
   "metadata": {
    "execution": {
     "iopub.execute_input": "2023-10-28T14:41:21.680687Z",
     "iopub.status.busy": "2023-10-28T14:41:21.680348Z",
     "iopub.status.idle": "2023-10-28T14:41:21.687417Z",
     "shell.execute_reply": "2023-10-28T14:41:21.686531Z"
    },
    "id": "G03NJ_LXXMjD",
    "outputId": "a8391390-f03d-43dd-83b2-8e2e656efb59",
    "papermill": {
     "duration": 0.03024,
     "end_time": "2023-10-28T14:41:21.689328",
     "exception": false,
     "start_time": "2023-10-28T14:41:21.659088",
     "status": "completed"
    },
    "tags": []
   },
   "outputs": [
    {
     "data": {
      "text/plain": [
       "id                           int64\n",
       "default                      int64\n",
       "idade                        int64\n",
       "sexo                        object\n",
       "dependentes                  int64\n",
       "escolaridade                object\n",
       "estado_civil                object\n",
       "salario_anual               object\n",
       "tipo_cartao                 object\n",
       "meses_de_relacionamento      int64\n",
       "qtd_produtos                 int64\n",
       "iteracoes_12m                int64\n",
       "meses_inativo_12m            int64\n",
       "limite_credito             float64\n",
       "valor_transacoes_12m       float64\n",
       "qtd_transacoes_12m           int64\n",
       "dtype: object"
      ]
     },
     "execution_count": 23,
     "metadata": {},
     "output_type": "execute_result"
    }
   ],
   "source": [
    "df.dtypes"
   ]
  },
  {
   "cell_type": "markdown",
   "id": "13e79c5a",
   "metadata": {
    "id": "QZCVuvlv-D5J",
    "papermill": {
     "duration": 0.020797,
     "end_time": "2023-10-28T14:41:21.731059",
     "exception": false,
     "start_time": "2023-10-28T14:41:21.710262",
     "status": "completed"
    },
    "tags": []
   },
   "source": [
    "- Características categóricas."
   ]
  },
  {
   "cell_type": "code",
   "execution_count": 24,
   "id": "74921d9f",
   "metadata": {
    "execution": {
     "iopub.execute_input": "2023-10-28T14:41:21.773966Z",
     "iopub.status.busy": "2023-10-28T14:41:21.773498Z",
     "iopub.status.idle": "2023-10-28T14:41:21.800974Z",
     "shell.execute_reply": "2023-10-28T14:41:21.800219Z"
    },
    "id": "LNVaOsF6XptP",
    "outputId": "a95fa1aa-bfc1-4499-8b81-c9627aee2821",
    "papermill": {
     "duration": 0.051198,
     "end_time": "2023-10-28T14:41:21.802789",
     "exception": false,
     "start_time": "2023-10-28T14:41:21.751591",
     "status": "completed"
    },
    "tags": []
   },
   "outputs": [
    {
     "data": {
      "text/html": [
       "<div>\n",
       "<style scoped>\n",
       "    .dataframe tbody tr th:only-of-type {\n",
       "        vertical-align: middle;\n",
       "    }\n",
       "\n",
       "    .dataframe tbody tr th {\n",
       "        vertical-align: top;\n",
       "    }\n",
       "\n",
       "    .dataframe thead th {\n",
       "        text-align: right;\n",
       "    }\n",
       "</style>\n",
       "<table border=\"1\" class=\"dataframe\">\n",
       "  <thead>\n",
       "    <tr style=\"text-align: right;\">\n",
       "      <th></th>\n",
       "      <th>count</th>\n",
       "      <th>unique</th>\n",
       "      <th>top</th>\n",
       "      <th>freq</th>\n",
       "    </tr>\n",
       "  </thead>\n",
       "  <tbody>\n",
       "    <tr>\n",
       "      <th>sexo</th>\n",
       "      <td>10127</td>\n",
       "      <td>2</td>\n",
       "      <td>F</td>\n",
       "      <td>5358</td>\n",
       "    </tr>\n",
       "    <tr>\n",
       "      <th>escolaridade</th>\n",
       "      <td>8608</td>\n",
       "      <td>5</td>\n",
       "      <td>mestrado</td>\n",
       "      <td>3128</td>\n",
       "    </tr>\n",
       "    <tr>\n",
       "      <th>estado_civil</th>\n",
       "      <td>9378</td>\n",
       "      <td>3</td>\n",
       "      <td>casado</td>\n",
       "      <td>4687</td>\n",
       "    </tr>\n",
       "    <tr>\n",
       "      <th>salario_anual</th>\n",
       "      <td>9015</td>\n",
       "      <td>5</td>\n",
       "      <td>menos que $40K</td>\n",
       "      <td>3561</td>\n",
       "    </tr>\n",
       "    <tr>\n",
       "      <th>tipo_cartao</th>\n",
       "      <td>10127</td>\n",
       "      <td>4</td>\n",
       "      <td>blue</td>\n",
       "      <td>9436</td>\n",
       "    </tr>\n",
       "  </tbody>\n",
       "</table>\n",
       "</div>"
      ],
      "text/plain": [
       "               count unique             top  freq\n",
       "sexo           10127      2               F  5358\n",
       "escolaridade    8608      5        mestrado  3128\n",
       "estado_civil    9378      3          casado  4687\n",
       "salario_anual   9015      5  menos que $40K  3561\n",
       "tipo_cartao    10127      4            blue  9436"
      ]
     },
     "execution_count": 24,
     "metadata": {},
     "output_type": "execute_result"
    }
   ],
   "source": [
    "df.select_dtypes('object').describe().transpose()"
   ]
  },
  {
   "cell_type": "markdown",
   "id": "a14ef4e8",
   "metadata": {
    "id": "-gckvZYj-INo",
    "papermill": {
     "duration": 0.021637,
     "end_time": "2023-10-28T14:41:21.846452",
     "exception": false,
     "start_time": "2023-10-28T14:41:21.824815",
     "status": "completed"
    },
    "tags": []
   },
   "source": [
    "Características numéricas."
   ]
  },
  {
   "cell_type": "code",
   "execution_count": 25,
   "id": "3a51bbfd",
   "metadata": {
    "execution": {
     "iopub.execute_input": "2023-10-28T14:41:21.892256Z",
     "iopub.status.busy": "2023-10-28T14:41:21.891562Z",
     "iopub.status.idle": "2023-10-28T14:41:21.935594Z",
     "shell.execute_reply": "2023-10-28T14:41:21.934526Z"
    },
    "id": "kINstEzCZrHW",
    "outputId": "42fc3509-c3ff-4d49-c0d1-dc21ef051aea",
    "papermill": {
     "duration": 0.069422,
     "end_time": "2023-10-28T14:41:21.937939",
     "exception": false,
     "start_time": "2023-10-28T14:41:21.868517",
     "status": "completed"
    },
    "tags": []
   },
   "outputs": [
    {
     "data": {
      "text/html": [
       "<div>\n",
       "<style scoped>\n",
       "    .dataframe tbody tr th:only-of-type {\n",
       "        vertical-align: middle;\n",
       "    }\n",
       "\n",
       "    .dataframe tbody tr th {\n",
       "        vertical-align: top;\n",
       "    }\n",
       "\n",
       "    .dataframe thead th {\n",
       "        text-align: right;\n",
       "    }\n",
       "</style>\n",
       "<table border=\"1\" class=\"dataframe\">\n",
       "  <thead>\n",
       "    <tr style=\"text-align: right;\">\n",
       "      <th></th>\n",
       "      <th>count</th>\n",
       "      <th>mean</th>\n",
       "      <th>std</th>\n",
       "      <th>min</th>\n",
       "      <th>25%</th>\n",
       "      <th>50%</th>\n",
       "      <th>75%</th>\n",
       "      <th>max</th>\n",
       "    </tr>\n",
       "  </thead>\n",
       "  <tbody>\n",
       "    <tr>\n",
       "      <th>default</th>\n",
       "      <td>10127.0</td>\n",
       "      <td>0.160660</td>\n",
       "      <td>0.367235</td>\n",
       "      <td>0.00</td>\n",
       "      <td>0.000</td>\n",
       "      <td>0.00</td>\n",
       "      <td>0.000</td>\n",
       "      <td>1.00</td>\n",
       "    </tr>\n",
       "    <tr>\n",
       "      <th>idade</th>\n",
       "      <td>10127.0</td>\n",
       "      <td>46.325960</td>\n",
       "      <td>8.016814</td>\n",
       "      <td>26.00</td>\n",
       "      <td>41.000</td>\n",
       "      <td>46.00</td>\n",
       "      <td>52.000</td>\n",
       "      <td>73.00</td>\n",
       "    </tr>\n",
       "    <tr>\n",
       "      <th>dependentes</th>\n",
       "      <td>10127.0</td>\n",
       "      <td>2.346203</td>\n",
       "      <td>1.298908</td>\n",
       "      <td>0.00</td>\n",
       "      <td>1.000</td>\n",
       "      <td>2.00</td>\n",
       "      <td>3.000</td>\n",
       "      <td>5.00</td>\n",
       "    </tr>\n",
       "    <tr>\n",
       "      <th>meses_de_relacionamento</th>\n",
       "      <td>10127.0</td>\n",
       "      <td>35.928409</td>\n",
       "      <td>7.986416</td>\n",
       "      <td>13.00</td>\n",
       "      <td>31.000</td>\n",
       "      <td>36.00</td>\n",
       "      <td>40.000</td>\n",
       "      <td>56.00</td>\n",
       "    </tr>\n",
       "    <tr>\n",
       "      <th>qtd_produtos</th>\n",
       "      <td>10127.0</td>\n",
       "      <td>3.812580</td>\n",
       "      <td>1.554408</td>\n",
       "      <td>1.00</td>\n",
       "      <td>3.000</td>\n",
       "      <td>4.00</td>\n",
       "      <td>5.000</td>\n",
       "      <td>6.00</td>\n",
       "    </tr>\n",
       "    <tr>\n",
       "      <th>iteracoes_12m</th>\n",
       "      <td>10127.0</td>\n",
       "      <td>2.455317</td>\n",
       "      <td>1.106225</td>\n",
       "      <td>0.00</td>\n",
       "      <td>2.000</td>\n",
       "      <td>2.00</td>\n",
       "      <td>3.000</td>\n",
       "      <td>6.00</td>\n",
       "    </tr>\n",
       "    <tr>\n",
       "      <th>meses_inativo_12m</th>\n",
       "      <td>10127.0</td>\n",
       "      <td>2.341167</td>\n",
       "      <td>1.010622</td>\n",
       "      <td>0.00</td>\n",
       "      <td>2.000</td>\n",
       "      <td>2.00</td>\n",
       "      <td>3.000</td>\n",
       "      <td>6.00</td>\n",
       "    </tr>\n",
       "    <tr>\n",
       "      <th>limite_credito</th>\n",
       "      <td>10127.0</td>\n",
       "      <td>8632.440165</td>\n",
       "      <td>9088.788041</td>\n",
       "      <td>1438.00</td>\n",
       "      <td>2555.355</td>\n",
       "      <td>4549.42</td>\n",
       "      <td>11068.175</td>\n",
       "      <td>34516.99</td>\n",
       "    </tr>\n",
       "    <tr>\n",
       "      <th>valor_transacoes_12m</th>\n",
       "      <td>10127.0</td>\n",
       "      <td>4404.583047</td>\n",
       "      <td>3397.128078</td>\n",
       "      <td>510.16</td>\n",
       "      <td>2155.825</td>\n",
       "      <td>3899.59</td>\n",
       "      <td>4741.310</td>\n",
       "      <td>18484.93</td>\n",
       "    </tr>\n",
       "    <tr>\n",
       "      <th>qtd_transacoes_12m</th>\n",
       "      <td>10127.0</td>\n",
       "      <td>64.858695</td>\n",
       "      <td>23.472570</td>\n",
       "      <td>10.00</td>\n",
       "      <td>45.000</td>\n",
       "      <td>67.00</td>\n",
       "      <td>81.000</td>\n",
       "      <td>139.00</td>\n",
       "    </tr>\n",
       "  </tbody>\n",
       "</table>\n",
       "</div>"
      ],
      "text/plain": [
       "                           count         mean          std      min       25%  \\\n",
       "default                  10127.0     0.160660     0.367235     0.00     0.000   \n",
       "idade                    10127.0    46.325960     8.016814    26.00    41.000   \n",
       "dependentes              10127.0     2.346203     1.298908     0.00     1.000   \n",
       "meses_de_relacionamento  10127.0    35.928409     7.986416    13.00    31.000   \n",
       "qtd_produtos             10127.0     3.812580     1.554408     1.00     3.000   \n",
       "iteracoes_12m            10127.0     2.455317     1.106225     0.00     2.000   \n",
       "meses_inativo_12m        10127.0     2.341167     1.010622     0.00     2.000   \n",
       "limite_credito           10127.0  8632.440165  9088.788041  1438.00  2555.355   \n",
       "valor_transacoes_12m     10127.0  4404.583047  3397.128078   510.16  2155.825   \n",
       "qtd_transacoes_12m       10127.0    64.858695    23.472570    10.00    45.000   \n",
       "\n",
       "                             50%        75%       max  \n",
       "default                     0.00      0.000      1.00  \n",
       "idade                      46.00     52.000     73.00  \n",
       "dependentes                 2.00      3.000      5.00  \n",
       "meses_de_relacionamento    36.00     40.000     56.00  \n",
       "qtd_produtos                4.00      5.000      6.00  \n",
       "iteracoes_12m               2.00      3.000      6.00  \n",
       "meses_inativo_12m           2.00      3.000      6.00  \n",
       "limite_credito           4549.42  11068.175  34516.99  \n",
       "valor_transacoes_12m     3899.59   4741.310  18484.93  \n",
       "qtd_transacoes_12m         67.00     81.000    139.00  "
      ]
     },
     "execution_count": 25,
     "metadata": {},
     "output_type": "execute_result"
    }
   ],
   "source": [
    "df.drop('id', axis = 1).select_dtypes('number').describe().transpose()"
   ]
  },
  {
   "cell_type": "markdown",
   "id": "f3fb5d1a",
   "metadata": {
    "id": "AEMO5BfE-Y4V",
    "papermill": {
     "duration": 0.021614,
     "end_time": "2023-10-28T14:41:21.981925",
     "exception": false,
     "start_time": "2023-10-28T14:41:21.960311",
     "status": "completed"
    },
    "tags": []
   },
   "source": [
    "## 2.4.**Eliminação de dados ausentes.**"
   ]
  },
  {
   "cell_type": "markdown",
   "id": "0449446e",
   "metadata": {
    "id": "BFJXn3cS-yHn",
    "papermill": {
     "duration": 0.022192,
     "end_time": "2023-10-28T14:41:22.026810",
     "exception": false,
     "start_time": "2023-10-28T14:41:22.004618",
     "status": "completed"
    },
    "tags": []
   },
   "source": [
    "- Dado que o Pandas identifica automaticamente dados ausentes, a eliminação das linhas problemáticas é uma tarefa simples."
   ]
  },
  {
   "cell_type": "code",
   "execution_count": 26,
   "id": "af078c4e",
   "metadata": {
    "execution": {
     "iopub.execute_input": "2023-10-28T14:41:22.072131Z",
     "iopub.status.busy": "2023-10-28T14:41:22.071730Z",
     "iopub.status.idle": "2023-10-28T14:41:22.083953Z",
     "shell.execute_reply": "2023-10-28T14:41:22.082693Z"
    },
    "id": "oj2tsTvwaK0l",
    "papermill": {
     "duration": 0.037375,
     "end_time": "2023-10-28T14:41:22.086065",
     "exception": false,
     "start_time": "2023-10-28T14:41:22.048690",
     "status": "completed"
    },
    "tags": []
   },
   "outputs": [],
   "source": [
    "df.dropna(inplace = True)"
   ]
  },
  {
   "cell_type": "markdown",
   "id": "6a130f75",
   "metadata": {
    "id": "pkJGuj2X-3rb",
    "papermill": {
     "duration": 0.021357,
     "end_time": "2023-10-28T14:41:22.129622",
     "exception": false,
     "start_time": "2023-10-28T14:41:22.108265",
     "status": "completed"
    },
    "tags": []
   },
   "source": [
    "- Vamos revisitar a estrutura dos dados mais uma vez."
   ]
  },
  {
   "cell_type": "code",
   "execution_count": 27,
   "id": "8de9591f",
   "metadata": {
    "execution": {
     "iopub.execute_input": "2023-10-28T14:41:22.174483Z",
     "iopub.status.busy": "2023-10-28T14:41:22.174136Z",
     "iopub.status.idle": "2023-10-28T14:41:22.179811Z",
     "shell.execute_reply": "2023-10-28T14:41:22.179165Z"
    },
    "id": "_OighrqGbsUB",
    "outputId": "883b38e8-2138-4f7d-9226-1222ecaa2f90",
    "papermill": {
     "duration": 0.030266,
     "end_time": "2023-10-28T14:41:22.181557",
     "exception": false,
     "start_time": "2023-10-28T14:41:22.151291",
     "status": "completed"
    },
    "tags": []
   },
   "outputs": [
    {
     "data": {
      "text/plain": [
       "(7081, 16)"
      ]
     },
     "execution_count": 27,
     "metadata": {},
     "output_type": "execute_result"
    }
   ],
   "source": [
    "df.shape"
   ]
  },
  {
   "cell_type": "code",
   "execution_count": 28,
   "id": "d9377528",
   "metadata": {
    "execution": {
     "iopub.execute_input": "2023-10-28T14:41:22.225937Z",
     "iopub.status.busy": "2023-10-28T14:41:22.225608Z",
     "iopub.status.idle": "2023-10-28T14:41:22.235968Z",
     "shell.execute_reply": "2023-10-28T14:41:22.234966Z"
    },
    "id": "oZhAq-MjbwHw",
    "outputId": "4b7eed43-ebdc-41fa-c988-ad75af18898b",
    "papermill": {
     "duration": 0.035116,
     "end_time": "2023-10-28T14:41:22.238102",
     "exception": false,
     "start_time": "2023-10-28T14:41:22.202986",
     "status": "completed"
    },
    "tags": []
   },
   "outputs": [
    {
     "name": "stdout",
     "output_type": "stream",
     "text": [
      "A quantidade de adimplentes ANTES da limpeza é 8500 pessoas = 83.93%\n",
      "A quantidade de adimplentes APÓS a limpeza é 5968 pessoas = 84.28%\n",
      "\n",
      "A quantidade total de inadimplentes ANTES da limpeza é 1627 pessoas = 16.07%\n",
      "A quantidade total de inadimplentes APÓS a limpeza é 1113 = 15.72%\n"
     ]
    }
   ],
   "source": [
    "total_clientes_limpos = df.shape[0]\n",
    "\n",
    "total_adimplentes_limpos= df[df['default'] == 0].shape[0]\n",
    "porcentagem_adimplentes_limpos= (100 * total_adimplentes_limpos / total_clientes_limpos)\n",
    "\n",
    "total_inadimplentes_limpos = df[df['default'] == 1].shape[0]\n",
    "porcentagem_inadimplentes_limpos = (100 * total_inadimplentes_limpos / total_clientes_limpos)\n",
    "\n",
    "\n",
    "print (f'A quantidade de adimplentes ANTES da limpeza é {total_adimplentes} pessoas = {porcentagem_adimplentes:.2f}%')\n",
    "print (f'A quantidade de adimplentes APÓS a limpeza é {total_adimplentes_limpos} pessoas = {porcentagem_adimplentes_limpos:.2f}%')\n",
    "print()\n",
    "print (f'A quantidade total de inadimplentes ANTES da limpeza é {total_inadimplentes} pessoas = {porcentagem_inadimplentes:.2f}%')\n",
    "print (f'A quantidade total de inadimplentes APÓS a limpeza é {total_inadimplentes_limpos} = {porcentagem_inadimplentes_limpos:.2f}%')"
   ]
  },
  {
   "cell_type": "markdown",
   "id": "71ce52cb",
   "metadata": {
    "id": "ILB5chiC-_42",
    "papermill": {
     "duration": 0.022514,
     "end_time": "2023-10-28T14:41:22.282346",
     "exception": false,
     "start_time": "2023-10-28T14:41:22.259832",
     "status": "completed"
    },
    "tags": []
   },
   "source": [
    "# 3\\. **ANÁLISE EXPLORATÓRIA DE DADOS**\n",
    "\n",
    "> Nesta etapa, são realizadas análises estatísticas e visualizações para identificar tendências, padrões e correlações nos dados. São criados gráficos e resumos estatísticos que ajudam a entender a distribuição das variáveis e suas relações com a inadimplência.\n",
    "\n"
   ]
  },
  {
   "cell_type": "markdown",
   "id": "44683c26",
   "metadata": {
    "id": "uCjb5C0oBgkp",
    "papermill": {
     "duration": 0.021467,
     "end_time": "2023-10-28T14:41:22.326931",
     "exception": false,
     "start_time": "2023-10-28T14:41:22.305464",
     "status": "completed"
    },
    "tags": []
   },
   "source": [
    "- Dividindo os clientes entre aqueles que estão adimplentes e inadimplentes."
   ]
  },
  {
   "cell_type": "code",
   "execution_count": 29,
   "id": "4bbfee65",
   "metadata": {
    "execution": {
     "iopub.execute_input": "2023-10-28T14:41:22.371527Z",
     "iopub.status.busy": "2023-10-28T14:41:22.371192Z",
     "iopub.status.idle": "2023-10-28T14:41:22.377307Z",
     "shell.execute_reply": "2023-10-28T14:41:22.376313Z"
    },
    "id": "uGKxVBGJc70s",
    "papermill": {
     "duration": 0.030711,
     "end_time": "2023-10-28T14:41:22.379380",
     "exception": false,
     "start_time": "2023-10-28T14:41:22.348669",
     "status": "completed"
    },
    "tags": []
   },
   "outputs": [],
   "source": [
    "df_adimplentes = df[df['default'] == 0]"
   ]
  },
  {
   "cell_type": "code",
   "execution_count": 30,
   "id": "2db3adfd",
   "metadata": {
    "execution": {
     "iopub.execute_input": "2023-10-28T14:41:22.424962Z",
     "iopub.status.busy": "2023-10-28T14:41:22.424634Z",
     "iopub.status.idle": "2023-10-28T14:41:22.429880Z",
     "shell.execute_reply": "2023-10-28T14:41:22.429209Z"
    },
    "id": "iIK3XJcoNnbu",
    "papermill": {
     "duration": 0.030572,
     "end_time": "2023-10-28T14:41:22.431835",
     "exception": false,
     "start_time": "2023-10-28T14:41:22.401263",
     "status": "completed"
    },
    "tags": []
   },
   "outputs": [],
   "source": [
    "df_inadimplentes = df[df['default'] == 1]"
   ]
  },
  {
   "cell_type": "markdown",
   "id": "9385c4ea",
   "metadata": {
    "id": "zfDZpm3YD1Cf",
    "papermill": {
     "duration": 0.022001,
     "end_time": "2023-10-28T14:41:22.475807",
     "exception": false,
     "start_time": "2023-10-28T14:41:22.453806",
     "status": "completed"
    },
    "tags": []
   },
   "source": [
    "### **3.1. Visualizações categóricas**"
   ]
  },
  {
   "cell_type": "markdown",
   "id": "b73bf757",
   "metadata": {
    "id": "6Vl7TXg6BnlU",
    "papermill": {
     "duration": 0.021249,
     "end_time": "2023-10-28T14:41:22.518637",
     "exception": false,
     "start_time": "2023-10-28T14:41:22.497388",
     "status": "completed"
    },
    "tags": []
   },
   "source": [
    " - Vamos explorar a relação entre a variável de resposta \"default\" e as características categóricas."
   ]
  },
  {
   "cell_type": "code",
   "execution_count": 31,
   "id": "54d5b766",
   "metadata": {
    "execution": {
     "iopub.execute_input": "2023-10-28T14:41:22.566212Z",
     "iopub.status.busy": "2023-10-28T14:41:22.565378Z",
     "iopub.status.idle": "2023-10-28T14:41:22.577472Z",
     "shell.execute_reply": "2023-10-28T14:41:22.576555Z"
    },
    "id": "1ezECww7N7RF",
    "outputId": "a3ad9d33-692f-4dbd-9343-2827029e07be",
    "papermill": {
     "duration": 0.038127,
     "end_time": "2023-10-28T14:41:22.579535",
     "exception": false,
     "start_time": "2023-10-28T14:41:22.541408",
     "status": "completed"
    },
    "tags": []
   },
   "outputs": [
    {
     "data": {
      "text/html": [
       "<div>\n",
       "<style scoped>\n",
       "    .dataframe tbody tr th:only-of-type {\n",
       "        vertical-align: middle;\n",
       "    }\n",
       "\n",
       "    .dataframe tbody tr th {\n",
       "        vertical-align: top;\n",
       "    }\n",
       "\n",
       "    .dataframe thead th {\n",
       "        text-align: right;\n",
       "    }\n",
       "</style>\n",
       "<table border=\"1\" class=\"dataframe\">\n",
       "  <thead>\n",
       "    <tr style=\"text-align: right;\">\n",
       "      <th></th>\n",
       "      <th>sexo</th>\n",
       "      <th>escolaridade</th>\n",
       "      <th>estado_civil</th>\n",
       "      <th>salario_anual</th>\n",
       "      <th>tipo_cartao</th>\n",
       "    </tr>\n",
       "  </thead>\n",
       "  <tbody>\n",
       "    <tr>\n",
       "      <th>0</th>\n",
       "      <td>M</td>\n",
       "      <td>ensino medio</td>\n",
       "      <td>casado</td>\n",
       "      <td>$60K - $80K</td>\n",
       "      <td>blue</td>\n",
       "    </tr>\n",
       "    <tr>\n",
       "      <th>1</th>\n",
       "      <td>F</td>\n",
       "      <td>mestrado</td>\n",
       "      <td>solteiro</td>\n",
       "      <td>menos que $40K</td>\n",
       "      <td>blue</td>\n",
       "    </tr>\n",
       "    <tr>\n",
       "      <th>2</th>\n",
       "      <td>M</td>\n",
       "      <td>mestrado</td>\n",
       "      <td>casado</td>\n",
       "      <td>$80K - $120K</td>\n",
       "      <td>blue</td>\n",
       "    </tr>\n",
       "    <tr>\n",
       "      <th>4</th>\n",
       "      <td>M</td>\n",
       "      <td>sem educacao formal</td>\n",
       "      <td>casado</td>\n",
       "      <td>$60K - $80K</td>\n",
       "      <td>blue</td>\n",
       "    </tr>\n",
       "    <tr>\n",
       "      <th>5</th>\n",
       "      <td>M</td>\n",
       "      <td>mestrado</td>\n",
       "      <td>casado</td>\n",
       "      <td>$40K - $60K</td>\n",
       "      <td>blue</td>\n",
       "    </tr>\n",
       "  </tbody>\n",
       "</table>\n",
       "</div>"
      ],
      "text/plain": [
       "  sexo         escolaridade estado_civil   salario_anual tipo_cartao\n",
       "0    M         ensino medio       casado     $60K - $80K        blue\n",
       "1    F             mestrado     solteiro  menos que $40K        blue\n",
       "2    M             mestrado       casado    $80K - $120K        blue\n",
       "4    M  sem educacao formal       casado     $60K - $80K        blue\n",
       "5    M             mestrado       casado     $40K - $60K        blue"
      ]
     },
     "execution_count": 31,
     "metadata": {},
     "output_type": "execute_result"
    }
   ],
   "source": [
    "df.select_dtypes('object').head(n = 5)"
   ]
  },
  {
   "cell_type": "markdown",
   "id": "6226e333",
   "metadata": {
    "id": "Kd6qP5QNB3lH",
    "papermill": {
     "duration": 0.023644,
     "end_time": "2023-10-28T14:41:22.626986",
     "exception": false,
     "start_time": "2023-10-28T14:41:22.603342",
     "status": "completed"
    },
    "tags": []
   },
   "source": [
    " - Escolaridade"
   ]
  },
  {
   "cell_type": "code",
   "execution_count": 32,
   "id": "8b4fbcb0",
   "metadata": {
    "execution": {
     "iopub.execute_input": "2023-10-28T14:41:22.674766Z",
     "iopub.status.busy": "2023-10-28T14:41:22.674372Z",
     "iopub.status.idle": "2023-10-28T14:41:23.668159Z",
     "shell.execute_reply": "2023-10-28T14:41:23.667050Z"
    },
    "id": "KNt_FIogOoik",
    "outputId": "2fa23d56-08de-41f1-c263-374b76b0e1db",
    "papermill": {
     "duration": 1.020593,
     "end_time": "2023-10-28T14:41:23.670208",
     "exception": false,
     "start_time": "2023-10-28T14:41:22.649615",
     "status": "completed"
    },
    "tags": []
   },
   "outputs": [
    {
     "data": {
      "image/png": "[encoded data removed]",
      "text/plain": [
       "<Figure size 2000x500 with 3 Axes>"
      ]
     },
     "metadata": {},
     "output_type": "display_data"
    }
   ],
   "source": [
    "coluna = 'escolaridade'\n",
    "titulos = ['Escolaridade dos Clientes', 'Escolaridade dos Clientes Adimplentes', 'Escolaridade dos Clientes Inadimplentes']\n",
    "\n",
    "eixo = 0\n",
    "max_y = 0\n",
    "max_freq = df[coluna].value_counts().max() * 1.1\n",
    "\n",
    "figura, eixos = plt.subplots(1, 3, figsize=(20, 5), sharex=True)\n",
    "\n",
    "\n",
    "for dataframe in [df, df_adimplentes, df_inadimplentes]:\n",
    "    \n",
    "    df_to_plot = dataframe[coluna].value_counts().reset_index()\n",
    "    df_to_plot.columns = [coluna, 'frequencia_absoluta']\n",
    "\n",
    "    \n",
    "    df_to_plot = df_to_plot.sort_values(by=coluna)\n",
    "\n",
    "   \n",
    "    f = sns.barplot(x=coluna, y='frequencia_absoluta', data=df_to_plot, ax=eixos[eixo])\n",
    "    f.set(title=titulos[eixo], xlabel=coluna.capitalize(), ylabel='Frequência Absoluta')\n",
    "    f.set_xticklabels(labels=f.get_xticklabels(), rotation=90)\n",
    "\n",
    "   \n",
    "    max_y_f = df_to_plot['frequencia_absoluta'].max()\n",
    "    max_y = max_y_f if max_y_f > max_y else max_y\n",
    "    f.set(ylim = (0, max_y))\n",
    "\n",
    "    eixo += 1\n",
    "\n",
    "figura.show()"
   ]
  },
  {
   "cell_type": "markdown",
   "id": "1ebcc59f",
   "metadata": {
    "id": "5Hjd6wJGB6up",
    "papermill": {
     "duration": 0.02268,
     "end_time": "2023-10-28T14:41:23.716822",
     "exception": false,
     "start_time": "2023-10-28T14:41:23.694142",
     "status": "completed"
    },
    "tags": []
   },
   "source": [
    " - Salário Anual"
   ]
  },
  {
   "cell_type": "code",
   "execution_count": 33,
   "id": "ae6fe4ce",
   "metadata": {
    "execution": {
     "iopub.execute_input": "2023-10-28T14:41:23.764326Z",
     "iopub.status.busy": "2023-10-28T14:41:23.763952Z",
     "iopub.status.idle": "2023-10-28T14:41:24.765966Z",
     "shell.execute_reply": "2023-10-28T14:41:24.764920Z"
    },
    "id": "EArWgSbJbuyo",
    "outputId": "f9fdb0a4-346e-4e2e-aa05-3f32f111df62",
    "papermill": {
     "duration": 1.028552,
     "end_time": "2023-10-28T14:41:24.768173",
     "exception": false,
     "start_time": "2023-10-28T14:41:23.739621",
     "status": "completed"
    },
    "tags": []
   },
   "outputs": [
    {
     "data": {
      "image/png": "[encoded data removed]",
      "text/plain": [
       "<Figure size 2000x500 with 3 Axes>"
      ]
     },
     "metadata": {},
     "output_type": "display_data"
    }
   ],
   "source": [
    "coluna = 'salario_anual'\n",
    "titulos = ['Salario Anual dos Clientes', 'Salario Anual dos Clientes Adimplentes', 'Salario Anual dos Clientes Inadimplentes']\n",
    "\n",
    "eixo = 0\n",
    "max_y = 0\n",
    "max_freq = df[coluna].value_counts().max() * 1.1\n",
    "\n",
    "figura, eixos = plt.subplots(1, 3, figsize=(20, 5), sharex=True)\n",
    "\n",
    "\n",
    "for dataframe in [df, df_adimplentes, df_inadimplentes]:\n",
    "    \n",
    "    df_to_plot = dataframe[coluna].value_counts().reset_index()\n",
    "    df_to_plot.columns = [coluna, 'frequencia_absoluta']\n",
    "\n",
    "    \n",
    "    df_to_plot = df_to_plot.sort_values(by=coluna)\n",
    "\n",
    "   \n",
    "    f = sns.barplot(x=coluna, y='frequencia_absoluta', data=df_to_plot, ax=eixos[eixo])\n",
    "    f.set(title=titulos[eixo], xlabel=coluna.capitalize(), ylabel='Frequência Absoluta')\n",
    "    f.set_xticklabels(labels=f.get_xticklabels(), rotation=90)\n",
    "\n",
    "   \n",
    "    max_y_f = df_to_plot['frequencia_absoluta'].max()\n",
    "    max_y = max_y_f if max_y_f > max_y else max_y\n",
    "    f.set(ylim = (0, max_y))\n",
    "\n",
    "    eixo += 1\n",
    "\n",
    "figura.show()"
   ]
  },
  {
   "cell_type": "markdown",
   "id": "fcfeb5a8",
   "metadata": {
    "id": "OB3K3398CcdH",
    "papermill": {
     "duration": 0.022467,
     "end_time": "2023-10-28T14:41:24.814948",
     "exception": false,
     "start_time": "2023-10-28T14:41:24.792481",
     "status": "completed"
    },
    "tags": []
   },
   "source": [
    "### 3.2.**Visualizações numéricas.**"
   ]
  },
  {
   "cell_type": "markdown",
   "id": "9f419927",
   "metadata": {
    "id": "4nJX5sqVCQxN",
    "papermill": {
     "duration": 0.023478,
     "end_time": "2023-10-28T14:41:24.861843",
     "exception": false,
     "start_time": "2023-10-28T14:41:24.838365",
     "status": "completed"
    },
    "tags": []
   },
   "source": [
    "- Vamos explorar a relação entre a variável de resposta \"default\" e as características numéricas."
   ]
  },
  {
   "cell_type": "code",
   "execution_count": 34,
   "id": "e4c8b95b",
   "metadata": {
    "execution": {
     "iopub.execute_input": "2023-10-28T14:41:24.915132Z",
     "iopub.status.busy": "2023-10-28T14:41:24.914255Z",
     "iopub.status.idle": "2023-10-28T14:41:24.930065Z",
     "shell.execute_reply": "2023-10-28T14:41:24.929299Z"
    },
    "id": "Zq7zBs19d6v2",
    "outputId": "a97dbf94-3a0b-48af-eb39-b7296758ef31",
    "papermill": {
     "duration": 0.044962,
     "end_time": "2023-10-28T14:41:24.932025",
     "exception": false,
     "start_time": "2023-10-28T14:41:24.887063",
     "status": "completed"
    },
    "tags": []
   },
   "outputs": [
    {
     "data": {
      "text/html": [
       "<div>\n",
       "<style scoped>\n",
       "    .dataframe tbody tr th:only-of-type {\n",
       "        vertical-align: middle;\n",
       "    }\n",
       "\n",
       "    .dataframe tbody tr th {\n",
       "        vertical-align: top;\n",
       "    }\n",
       "\n",
       "    .dataframe thead th {\n",
       "        text-align: right;\n",
       "    }\n",
       "</style>\n",
       "<table border=\"1\" class=\"dataframe\">\n",
       "  <thead>\n",
       "    <tr style=\"text-align: right;\">\n",
       "      <th></th>\n",
       "      <th>idade</th>\n",
       "      <th>dependentes</th>\n",
       "      <th>meses_de_relacionamento</th>\n",
       "      <th>qtd_produtos</th>\n",
       "      <th>iteracoes_12m</th>\n",
       "      <th>meses_inativo_12m</th>\n",
       "      <th>limite_credito</th>\n",
       "      <th>valor_transacoes_12m</th>\n",
       "      <th>qtd_transacoes_12m</th>\n",
       "    </tr>\n",
       "  </thead>\n",
       "  <tbody>\n",
       "    <tr>\n",
       "      <th>0</th>\n",
       "      <td>45</td>\n",
       "      <td>3</td>\n",
       "      <td>39</td>\n",
       "      <td>5</td>\n",
       "      <td>3</td>\n",
       "      <td>1</td>\n",
       "      <td>12691.51</td>\n",
       "      <td>1144.90</td>\n",
       "      <td>42</td>\n",
       "    </tr>\n",
       "    <tr>\n",
       "      <th>1</th>\n",
       "      <td>49</td>\n",
       "      <td>5</td>\n",
       "      <td>44</td>\n",
       "      <td>6</td>\n",
       "      <td>2</td>\n",
       "      <td>1</td>\n",
       "      <td>8256.96</td>\n",
       "      <td>1291.45</td>\n",
       "      <td>33</td>\n",
       "    </tr>\n",
       "    <tr>\n",
       "      <th>2</th>\n",
       "      <td>51</td>\n",
       "      <td>3</td>\n",
       "      <td>36</td>\n",
       "      <td>4</td>\n",
       "      <td>0</td>\n",
       "      <td>1</td>\n",
       "      <td>3418.56</td>\n",
       "      <td>1887.72</td>\n",
       "      <td>20</td>\n",
       "    </tr>\n",
       "    <tr>\n",
       "      <th>4</th>\n",
       "      <td>40</td>\n",
       "      <td>3</td>\n",
       "      <td>21</td>\n",
       "      <td>5</td>\n",
       "      <td>0</td>\n",
       "      <td>1</td>\n",
       "      <td>4716.22</td>\n",
       "      <td>816.08</td>\n",
       "      <td>28</td>\n",
       "    </tr>\n",
       "    <tr>\n",
       "      <th>5</th>\n",
       "      <td>44</td>\n",
       "      <td>2</td>\n",
       "      <td>36</td>\n",
       "      <td>3</td>\n",
       "      <td>2</td>\n",
       "      <td>1</td>\n",
       "      <td>4010.69</td>\n",
       "      <td>1088.07</td>\n",
       "      <td>24</td>\n",
       "    </tr>\n",
       "  </tbody>\n",
       "</table>\n",
       "</div>"
      ],
      "text/plain": [
       "   idade  dependentes  meses_de_relacionamento  qtd_produtos  iteracoes_12m  \\\n",
       "0     45            3                       39             5              3   \n",
       "1     49            5                       44             6              2   \n",
       "2     51            3                       36             4              0   \n",
       "4     40            3                       21             5              0   \n",
       "5     44            2                       36             3              2   \n",
       "\n",
       "   meses_inativo_12m  limite_credito  valor_transacoes_12m  qtd_transacoes_12m  \n",
       "0                  1        12691.51               1144.90                  42  \n",
       "1                  1         8256.96               1291.45                  33  \n",
       "2                  1         3418.56               1887.72                  20  \n",
       "4                  1         4716.22                816.08                  28  \n",
       "5                  1         4010.69               1088.07                  24  "
      ]
     },
     "execution_count": 34,
     "metadata": {},
     "output_type": "execute_result"
    }
   ],
   "source": [
    "df.drop(['id', 'default'], axis = 1).select_dtypes('number').head(n = 5)"
   ]
  },
  {
   "cell_type": "markdown",
   "id": "af09ab5a",
   "metadata": {
    "id": "PMepT4XfCZxf",
    "papermill": {
     "duration": 0.025867,
     "end_time": "2023-10-28T14:41:24.984305",
     "exception": false,
     "start_time": "2023-10-28T14:41:24.958438",
     "status": "completed"
    },
    "tags": []
   },
   "source": [
    "- Quantidade de Transações nos Últimos 12 Meses"
   ]
  },
  {
   "cell_type": "code",
   "execution_count": 35,
   "id": "b7a48a93",
   "metadata": {
    "execution": {
     "iopub.execute_input": "2023-10-28T14:41:25.038820Z",
     "iopub.status.busy": "2023-10-28T14:41:25.038159Z",
     "iopub.status.idle": "2023-10-28T14:41:26.387703Z",
     "shell.execute_reply": "2023-10-28T14:41:26.386575Z"
    },
    "id": "pQm0DiKOdzIo",
    "outputId": "2d5d6d72-f9d7-4131-bae8-2d52d082eb76",
    "papermill": {
     "duration": 1.379067,
     "end_time": "2023-10-28T14:41:26.389988",
     "exception": false,
     "start_time": "2023-10-28T14:41:25.010921",
     "status": "completed"
    },
    "tags": []
   },
   "outputs": [
    {
     "data": {
      "image/png": "[encoded data removed]",
      "text/plain": [
       "<Figure size 2000x500 with 3 Axes>"
      ]
     },
     "metadata": {},
     "output_type": "display_data"
    }
   ],
   "source": [
    "coluna = 'qtd_transacoes_12m'\n",
    "titulos = ['Qtd. de Transacoes no Último Ano', 'Qtd. de Transacoes no Último Ano dos Clientes Adimplentes', 'Qtd. de Transacoes no Último Ano dos Clientes Inadimplentes']\n",
    "\n",
    "eixo = 0\n",
    "max_y = 0\n",
    "figura, eixos = plt.subplots(1, 3, figsize = (20, 5), sharex = True)\n",
    "\n",
    "for dataframe in [df, df_adimplentes, df_inadimplentes]:\n",
    "\n",
    "  f = sns.histplot(x = coluna, data = dataframe, stat = 'count', ax = eixos[eixo])\n",
    "  f.set(title = titulos[eixo], xlabel = coluna.capitalize(), ylabel = 'Frequencia Absoluta')\n",
    "\n",
    "  _, max_y_f = f.get_ylim()\n",
    "  max_y = max_y_f if max_y_f > max_y else max_y\n",
    "  f.set(ylim=(0, max_y))\n",
    "\n",
    "  eixo += 1\n",
    "\n",
    "figura.show()"
   ]
  },
  {
   "cell_type": "markdown",
   "id": "fc604628",
   "metadata": {
    "id": "chXh05dwEjVW",
    "papermill": {
     "duration": 0.025202,
     "end_time": "2023-10-28T14:41:26.440543",
     "exception": false,
     "start_time": "2023-10-28T14:41:26.415341",
     "status": "completed"
    },
    "tags": []
   },
   "source": [
    "- Valor das Transações nos Últimos 12 Meses"
   ]
  },
  {
   "cell_type": "code",
   "execution_count": 36,
   "id": "ca57b8c9",
   "metadata": {
    "execution": {
     "iopub.execute_input": "2023-10-28T14:41:26.491065Z",
     "iopub.status.busy": "2023-10-28T14:41:26.490664Z",
     "iopub.status.idle": "2023-10-28T14:41:28.147217Z",
     "shell.execute_reply": "2023-10-28T14:41:28.145767Z"
    },
    "id": "Y8tBWFO6iZ65",
    "outputId": "d58ce342-9ea4-4add-d4ee-aac58f8a12b3",
    "papermill": {
     "duration": 1.684606,
     "end_time": "2023-10-28T14:41:28.149850",
     "exception": false,
     "start_time": "2023-10-28T14:41:26.465244",
     "status": "completed"
    },
    "tags": []
   },
   "outputs": [
    {
     "data": {
      "image/png": "[encoded data removed]",
      "text/plain": [
       "<Figure size 2000x500 with 3 Axes>"
      ]
     },
     "metadata": {},
     "output_type": "display_data"
    }
   ],
   "source": [
    "coluna = 'valor_transacoes_12m'\n",
    "titulos = ['Valor de Transacoes no Último Ano', 'Valor de Transacoes no Último Ano dos Clientes Adimplentes', 'Valor de Transacoes no Último Ano dos Clientes Inadimplentes']\n",
    "\n",
    "eixo = 0\n",
    "max_y = 0\n",
    "figura, eixos = plt.subplots(1, 3, figsize = (20, 5), sharex = True)\n",
    "\n",
    "for dataframe in [df, df_adimplentes, df_inadimplentes]:\n",
    "\n",
    "  f = sns.histplot(x = coluna, data = dataframe, stat = 'count', ax = eixos[eixo])\n",
    "  f.set(title = titulos[eixo], xlabel = coluna.capitalize(), ylabel = 'Frequencia Absoluta')\n",
    "\n",
    "  _, max_y_f = f.get_ylim()\n",
    "  max_y = max_y_f if max_y_f > max_y else max_y\n",
    "  f.set(ylim=(0, max_y))\n",
    "\n",
    "  eixo += 1\n",
    "\n",
    "figura.show()"
   ]
  },
  {
   "cell_type": "markdown",
   "id": "a66b4bba",
   "metadata": {
    "id": "HkgATB6QEoRq",
    "papermill": {
     "duration": 0.029855,
     "end_time": "2023-10-28T14:41:28.209588",
     "exception": false,
     "start_time": "2023-10-28T14:41:28.179733",
     "status": "completed"
    },
    "tags": []
   },
   "source": [
    " - Valor de Transações nos Últimos 12 Meses x Quantidade de Transações nos Últimos 12 Meses"
   ]
  },
  {
   "cell_type": "code",
   "execution_count": 37,
   "id": "1858dd85",
   "metadata": {
    "execution": {
     "iopub.execute_input": "2023-10-28T14:41:28.268664Z",
     "iopub.status.busy": "2023-10-28T14:41:28.268145Z",
     "iopub.status.idle": "2023-10-28T14:41:29.955827Z",
     "shell.execute_reply": "2023-10-28T14:41:29.954731Z"
    },
    "id": "T2UdStlUjYjp",
    "outputId": "f8124f4c-5ddc-4cba-c134-71885d27b3fb",
    "papermill": {
     "duration": 1.721599,
     "end_time": "2023-10-28T14:41:29.959628",
     "exception": false,
     "start_time": "2023-10-28T14:41:28.238029",
     "status": "completed"
    },
    "tags": []
   },
   "outputs": [
    {
     "name": "stderr",
     "output_type": "stream",
     "text": [
      "/opt/conda/lib/python3.10/site-packages/seaborn/axisgrid.py:118: UserWarning: The figure layout has changed to tight\n",
      "  self._figure.tight_layout(*args, **kwargs)\n"
     ]
    },
    {
     "data": {
      "image/png": "[encoded data removed]",
      "text/plain": [
       "<Figure size 560.236x500 with 1 Axes>"
      ]
     },
     "metadata": {},
     "output_type": "display_data"
    }
   ],
   "source": [
    "f = sns.relplot(x = 'valor_transacoes_12m', y = 'qtd_transacoes_12m', data = df, hue = 'default')\n",
    "_ = f.set(\n",
    "    title = 'Relacao entre Valor e Quantidade de Transações no Último Ano',\n",
    "    xlabel = 'Valor das Transações no Último Ano',\n",
    "    ylabel = 'Quantidade das Transações no Último Ano'\n",
    "    )"
   ]
  },
  {
   "cell_type": "markdown",
   "id": "0759ad20",
   "metadata": {
    "id": "gsUimE8mJSmJ",
    "papermill": {
     "duration": 0.030377,
     "end_time": "2023-10-28T14:41:30.019661",
     "exception": false,
     "start_time": "2023-10-28T14:41:29.989284",
     "status": "completed"
    },
    "tags": []
   },
   "source": [
    "# 4\\. **INSIGHTS GERADOS**"
   ]
  },
  {
   "cell_type": "markdown",
   "id": "a854c616",
   "metadata": {
    "id": "kAaOU3AVLBfw",
    "papermill": {
     "duration": 0.029485,
     "end_time": "2023-10-28T14:41:30.078936",
     "exception": false,
     "start_time": "2023-10-28T14:41:30.049451",
     "status": "completed"
    },
    "tags": []
   },
   "source": [
    "A análise de dados revelou informações fundamentais para a identificação de padrões de inadimplência em uma instituição financeira. Especificamente, a análise destaca a relevância crítica da relação entre o valor e a quantidade de transações realizadas no último ano. Através dessa análise, foi constatado que clientes com mais de **80** transações e valores superiores a `R$ 10.000` demonstram um perfil de baixo risco de inadimplência. Em contraste, os clientes que realizam menos de **60** transações anuais e efetuam compras com valores entre `R$ 0` e `R$ 2.500` apresentam a mais elevada probabilidade de inadimplência.\n",
    "\n",
    "Adicionalmente, observou-se que os clientes que realizam entre **60** e **80** transações e efetuam compras na faixa entre `R$ 7.500` e `R$ 10.000` também exibem uma considerável propensão à inadimplência. Esse insight sublinha a importância crítica da análise de dados na formulação de estratégias e políticas de gestão de riscos financeiros, com o potencial de melhorar a eficácia das decisões tomadas pela instituição financeira."
   ]
  },
  {
   "cell_type": "code",
   "execution_count": null,
   "id": "d424fb17",
   "metadata": {
    "id": "RalfX9YmLiIX",
    "papermill": {
     "duration": 0.029887,
     "end_time": "2023-10-28T14:41:30.138503",
     "exception": false,
     "start_time": "2023-10-28T14:41:30.108616",
     "status": "completed"
    },
    "tags": []
   },
   "outputs": [],
   "source": []
  }
 ],
 "metadata": {
  "kernelspec": {
   "display_name": "Python 3",
   "language": "python",
   "name": "python3"
  },
  "language_info": {
   "codemirror_mode": {
    "name": "ipython",
    "version": 3
   },
   "file_extension": ".py",
   "mimetype": "text/x-python",
   "name": "python",
   "nbconvert_exporter": "python",
   "pygments_lexer": "ipython3",
   "version": "3.10.12"
  },
  "papermill": {
   "default_parameters": {},
   "duration": 16.39584,
   "end_time": "2023-10-28T14:41:30.789667",
   "environment_variables": {},
   "exception": null,
   "input_path": "__notebook__.ipynb",
   "output_path": "__notebook__.ipynb",
   "parameters": {},
   "start_time": "2023-10-28T14:41:14.393827",
   "version": "2.4.0"
  }
 },
 "nbformat": 4,
 "nbformat_minor": 5
}
